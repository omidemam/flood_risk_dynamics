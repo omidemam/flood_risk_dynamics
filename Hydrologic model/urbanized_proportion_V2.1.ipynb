{
 "cells": [
  {
   "cell_type": "markdown",
   "id": "527532d9-e032-4022-8b97-2ec120b0a3e8",
   "metadata": {},
   "source": [
    "# This notebook calculates urbanized portion of each culverts' watershed \n",
    "##### Author: Omid Emamjomehzadeh (https://www.omidemam.com/)\n",
    "##### Supervisor: Dr. Omar Wani (https://engineering.nyu.edu/faculty/omar-wani)\n",
    "##### Hydrologic Systems Group @NYU (https://www.omarwani.com/)"
   ]
  },
  {
   "cell_type": "code",
   "execution_count": 4,
   "id": "668a5495-1172-4871-adb4-5e7b2b18f10c",
   "metadata": {},
   "outputs": [],
   "source": [
    "# libraries\n",
    "import numpy as np\n",
    "import pandas as pd\n",
    "import geopandas as gpd\n",
    "import rasterio\n",
    "from rasterio.mask import mask\n",
    "from shapely.geometry import mapping\n",
    "from tqdm import tqdm\n",
    "import matplotlib.pyplot as plt\n",
    "import matplotlib.colors as mcolors\n",
    "import os\n",
    "import glob\n",
    "import datetime"
   ]
  },
  {
   "cell_type": "code",
   "execution_count": 8,
   "id": "25a1d154-5b70-4b2a-99d5-bef28abdd717",
   "metadata": {},
   "outputs": [],
   "source": [
    "import warnings\n",
    "# Suppress the specific RuntimeWarning\n",
    "warnings.filterwarnings(\"ignore\")\n",
    "# Suppress all UserWarnings, including PerformanceWarnings\n",
    "warnings.simplefilter('ignore', category=UserWarning)\n",
    "# plot with Arial font\n",
    "plt.rcParams['font.family'] = 'Arial'"
   ]
  },
  {
   "cell_type": "markdown",
   "id": "c18bfd76-6226-4705-9597-9ef085d248da",
   "metadata": {},
   "source": [
    "# An example"
   ]
  },
  {
   "cell_type": "code",
   "execution_count": 5,
   "id": "b9207e65-371e-498a-bb32-70e9cf45cd43",
   "metadata": {},
   "outputs": [
    {
     "name": "stdout",
     "output_type": "stream",
     "text": [
      "Class proportions within the watershed polygon: {'Developed, Open Space': np.float64(0.06565656565656566), 'Developed, Low Intensity': np.float64(0.016835016835016835), 'Developed, Medium Intensity': np.float64(0.0016835016835016834), 'Deciduous Forest': np.float64(0.30808080808080807), 'Hay/Pasture': np.float64(0.4696969696969697), 'Cultivated Crops': np.float64(0.06734006734006734), 'Woody Wetlands': np.float64(0.050505050505050504), 'Emergent Herbaceous Wetlands': np.float64(0.020202020202020204)}\n"
     ]
    }
   ],
   "source": [
    "# Set global font properties\n",
    "plt.rcParams['font.family'] = 'Times New Roman'\n",
    "plt.rcParams['font.size'] = 16\n",
    "\n",
    "# File paths\n",
    "nlcd_file = r\"D:\\culvert repo\\data\\initial layers\\NLCD_2021_5070.tif\"\n",
    "watershed_shp = r\"D:\\culvert repo\\Results\\waterhsed_delineation_dir\\011000050501\\C810330watershed_poly_40m.shp\"\n",
    "\n",
    "# Load watershed polygon\n",
    "watershed_gdf = gpd.read_file(watershed_shp)\n",
    "\n",
    "# Define custom colors and class names for each class\n",
    "custom_colors = {\n",
    "    0: 'black',                    # Unclassified\n",
    "    11: 'deepskyblue',             # Open Water\n",
    "    21: 'lightyellow',             # Developed, Open Space\n",
    "    22: 'wheat',                   # Developed, Low Intensity\n",
    "    23: 'sandybrown',              # Developed, Medium Intensity\n",
    "    24: 'firebrick',               # Developed High Intensity\n",
    "    31: 'khaki',                   # Barren Land\n",
    "    41: 'forestgreen',             # Deciduous Forest\n",
    "    42: 'darkgreen',               # Evergreen Forest\n",
    "    43: 'yellowgreen',             # Mixed Forest\n",
    "    52: 'olivedrab',               # Shrub/Scrub\n",
    "    71: 'palegreen',               # Herbaceous\n",
    "    81: 'lightgreen',              # Hay/Pasture\n",
    "    82: 'limegreen',               # Cultivated Crops\n",
    "    90: 'royalblue',               # Woody Wetlands\n",
    "    95: 'aquamarine'               # Emergent Herbaceous Wetlands\n",
    "}\n",
    "\n",
    "# Class descriptions for each code\n",
    "class_descriptions = {\n",
    "    0: 'Unclassified',\n",
    "    11: 'Open Water',\n",
    "    21: 'Developed, Open Space',\n",
    "    22: 'Developed, Low Intensity',\n",
    "    23: 'Developed, Medium Intensity',\n",
    "    24: 'Developed High Intensity',\n",
    "    31: 'Barren Land',\n",
    "    41: 'Deciduous Forest',\n",
    "    42: 'Evergreen Forest',\n",
    "    43: 'Mixed Forest',\n",
    "    52: 'Shrub/Scrub',\n",
    "    71: 'Herbaceous',\n",
    "    81: 'Hay/Pasture',\n",
    "    82: 'Cultivated Crops',\n",
    "    90: 'Woody Wetlands',\n",
    "    95: 'Emergent Herbaceous Wetlands'\n",
    "}\n",
    "\n",
    "# Create a colormap based on custom colors\n",
    "cmap = mcolors.ListedColormap([custom_colors[key] for key in sorted(custom_colors.keys())])\n",
    "\n",
    "# Function to clip raster by polygon and calculate class proportions\n",
    "def calculate_class_proportions(nlcd_file, watershed_gdf):\n",
    "    with rasterio.open(nlcd_file) as src:\n",
    "        # Clip raster to watershed polygon\n",
    "        out_image, out_transform = mask(src, [mapping(watershed_gdf.geometry.iloc[0])], crop=True)\n",
    "        out_image = np.ma.masked_where(out_image == -128, out_image)  # Mask NoData\n",
    "        \n",
    "        # Calculate proportions\n",
    "        unique, counts = np.unique(out_image.compressed(), return_counts=True)\n",
    "        total_pixels = counts.sum()\n",
    "        proportions = {class_descriptions.get(int(k), 'Unknown'): v / total_pixels for k, v in zip(unique, counts)}\n",
    "        \n",
    "        return out_image, out_transform, proportions\n",
    "\n",
    "# Clip and calculate proportions\n",
    "clipped_data, transform, class_proportions = calculate_class_proportions(nlcd_file, watershed_gdf)\n",
    "print(\"Class proportions within the watershed polygon:\", class_proportions)\n"
   ]
  },
  {
   "cell_type": "markdown",
   "id": "912a6bf3-1668-4032-a1a0-5b1b2d890650",
   "metadata": {},
   "source": [
    "# find the paths"
   ]
  },
  {
   "cell_type": "code",
   "execution_count": 6,
   "id": "d6710c44-ccce-40fc-8a63-9b45b1e45e2e",
   "metadata": {},
   "outputs": [
    {
     "name": "stdout",
     "output_type": "stream",
     "text": [
      "Found 29960 shapefiles.\n"
     ]
    }
   ],
   "source": [
    "# Gather all paths for different watershed files\n",
    "# Define the root directory to search in\n",
    "root_dir = r'D:\\culvert repo\\Results\\waterhsed_delineation_dir'\n",
    "\n",
    "# Define the pattern to search for shapefiles\n",
    "pattern = os.path.join(root_dir, '**', '*watershed_poly_*m.shp')\n",
    "\n",
    "# Use glob to find all matching shapefiles\n",
    "shapefile_paths = glob.glob(pattern, recursive=True)\n",
    "\n",
    "# Print the number of shapefiles found\n",
    "print(f\"Found {len(shapefile_paths)} shapefiles.\")"
   ]
  },
  {
   "cell_type": "markdown",
   "id": "84096f79-abd4-4383-abcb-919dca1a90be",
   "metadata": {},
   "source": [
    "# calculate the urbanized portion"
   ]
  },
  {
   "cell_type": "code",
   "execution_count": 9,
   "id": "2a236670-b754-4144-b169-cef2970c515b",
   "metadata": {},
   "outputs": [
    {
     "name": "stderr",
     "output_type": "stream",
     "text": [
      "Processing culverts: 100%|█████████████████████████████████████████████████████████| 7474/7474 [25:38<00:00,  4.86it/s]"
     ]
    },
    {
     "name": "stdout",
     "output_type": "stream",
     "text": [
      "Completed processing and saved the updated shapefile.\n"
     ]
    },
    {
     "name": "stderr",
     "output_type": "stream",
     "text": [
      "\n"
     ]
    }
   ],
   "source": [
    "# Load culverts watershed\n",
    "file_path=r\"D:\\culvert repo\\Results\\waterhsed_delineation_dir\\combined_watersheds_info.xlsx\"\n",
    "culvert = gpd.read_file(file_path)\n",
    "\n",
    "# Define paths\n",
    "pattern = os.path.join(root_dir, '**', '*watershed_poly_*m.shp')\n",
    "shapefile_paths = glob.glob(pattern, recursive=True)\n",
    "\n",
    "# Class descriptions for each code\n",
    "class_descriptions = {\n",
    "    0: 'Unclassified',\n",
    "    11: 'Open Water',\n",
    "    21: 'Developed, Open Space',\n",
    "    22: 'Developed, Low Intensity',\n",
    "    23: 'Developed, Medium Intensity',\n",
    "    24: 'Developed High Intensity',\n",
    "    31: 'Barren Land',\n",
    "    41: 'Deciduous Forest',\n",
    "    42: 'Evergreen Forest',\n",
    "    43: 'Mixed Forest',\n",
    "    52: 'Shrub/Scrub',\n",
    "    71: 'Herbaceous',\n",
    "    81: 'Hay/Pasture',\n",
    "    82: 'Cultivated Crops',\n",
    "    90: 'Woody Wetlands',\n",
    "    95: 'Emergent Herbaceous Wetlands'\n",
    "}\n",
    "\n",
    "# Initialize columns in culvert for class proportions and CN values\n",
    "for class_name in class_descriptions.values():\n",
    "    culvert[f'{class_name}_proportion'] = np.nan\n",
    "\n",
    "# Function to calculate class proportions\n",
    "def calculate_class_proportions(nlcd_file, watershed_gdf):\n",
    "    with rasterio.open(nlcd_file) as src:\n",
    "        out_image, out_transform = mask(src, [mapping(watershed_gdf.geometry.iloc[0])], crop=True)\n",
    "        out_image = np.ma.masked_where(out_image == -128, out_image)  # Mask NoData\n",
    "        unique, counts = np.unique(out_image.compressed(), return_counts=True)\n",
    "        total_pixels = counts.sum()\n",
    "        # Set proportion to 0 for any missing classes\n",
    "        proportions = {class_name: 0 for class_name in class_descriptions.values()}\n",
    "        # Only update proportions for classes that are present\n",
    "        for k, v in zip(unique, counts):\n",
    "            class_name = class_descriptions.get(int(k), 'Unknown')\n",
    "            if class_name in proportions:\n",
    "                proportions[class_name] = v / total_pixels\n",
    "        return proportions\n",
    "\n",
    "# Process each culvert\n",
    "for error in [40]:\n",
    "    for idx, row in tqdm(culvert.iterrows(), total=culvert.shape[0], desc='Processing culverts'):\n",
    "        specific_pattern = f\"{culvert['BIN'].iloc[idx]}watershed_poly_{error}m.shp\"\n",
    "# Gather all paths for different watershed files\n",
    "        for path in shapefile_paths:\n",
    "            if specific_pattern in os.path.basename(path):\n",
    "                matching_path = path\n",
    "                break\n",
    "        watershed = gpd.read_file(matching_path)\n",
    "        watershed_geom = [feature[\"geometry\"] for feature in watershed.__geo_interface__[\"features\"]]\n",
    "        # Calculate class proportions for the current watershed\n",
    "        class_proportions = calculate_class_proportions(nlcd_file, watershed)\n",
    "        for class_name, proportion in class_proportions.items():\n",
    "            culvert.loc[idx, f'{class_name}_proportion'] = proportion\n",
    "\n",
    "# Save the updated culvert dataset to a shapefile\n",
    "file_path = r\"D:\\culvert repo\\Results\\waterhsed_delineation_dir\\combined_watersheds_nlcd_proportions.shp\"\n",
    "culvert.to_file(file_path, driver='ESRI Shapefile')\n",
    "print(\"Completed processing and saved the updated shapefile.\")"
   ]
  },
  {
   "cell_type": "code",
   "execution_count": 10,
   "id": "a10dbd3f-b3f8-4afb-ba22-a78b7907e61d",
   "metadata": {},
   "outputs": [
    {
     "data": {
      "text/html": [
       "<div>\n",
       "<style scoped>\n",
       "    .dataframe tbody tr th:only-of-type {\n",
       "        vertical-align: middle;\n",
       "    }\n",
       "\n",
       "    .dataframe tbody tr th {\n",
       "        vertical-align: top;\n",
       "    }\n",
       "\n",
       "    .dataframe thead th {\n",
       "        text-align: right;\n",
       "    }\n",
       "</style>\n",
       "<table border=\"1\" class=\"dataframe\">\n",
       "  <thead>\n",
       "    <tr style=\"text-align: right;\">\n",
       "      <th></th>\n",
       "      <th>BIN</th>\n",
       "      <th>Ini_lon</th>\n",
       "      <th>Ini_lat</th>\n",
       "      <th>lonsnap_10</th>\n",
       "      <th>latsnap_10</th>\n",
       "      <th>Area_10</th>\n",
       "      <th>Peri_10</th>\n",
       "      <th>LFP_len_10</th>\n",
       "      <th>LFP_S_10</th>\n",
       "      <th>Bas_S_10</th>\n",
       "      <th>...</th>\n",
       "      <th>Barren Land_proportion</th>\n",
       "      <th>Deciduous Forest_proportion</th>\n",
       "      <th>Evergreen Forest_proportion</th>\n",
       "      <th>Mixed Forest_proportion</th>\n",
       "      <th>Shrub/Scrub_proportion</th>\n",
       "      <th>Herbaceous_proportion</th>\n",
       "      <th>Hay/Pasture_proportion</th>\n",
       "      <th>Cultivated Crops_proportion</th>\n",
       "      <th>Woody Wetlands_proportion</th>\n",
       "      <th>Emergent Herbaceous Wetlands_proportion</th>\n",
       "    </tr>\n",
       "  </thead>\n",
       "  <tbody>\n",
       "    <tr>\n",
       "      <th>0</th>\n",
       "      <td>C810530</td>\n",
       "      <td>-73.429865</td>\n",
       "      <td>42.334525</td>\n",
       "      <td>-73.429844</td>\n",
       "      <td>42.334566</td>\n",
       "      <td>26.732972</td>\n",
       "      <td>35.821539</td>\n",
       "      <td>11.428346</td>\n",
       "      <td>2.926</td>\n",
       "      <td>2.309196</td>\n",
       "      <td>...</td>\n",
       "      <td>0.000000</td>\n",
       "      <td>0.648208</td>\n",
       "      <td>0.011075</td>\n",
       "      <td>0.110098</td>\n",
       "      <td>0.000000</td>\n",
       "      <td>0.002606</td>\n",
       "      <td>0.023453</td>\n",
       "      <td>0.0</td>\n",
       "      <td>0.059283</td>\n",
       "      <td>0.002606</td>\n",
       "    </tr>\n",
       "    <tr>\n",
       "      <th>1</th>\n",
       "      <td>C810540</td>\n",
       "      <td>-73.413932</td>\n",
       "      <td>42.345825</td>\n",
       "      <td>-73.413873</td>\n",
       "      <td>42.345798</td>\n",
       "      <td>70.297816</td>\n",
       "      <td>59.702565</td>\n",
       "      <td>22.615254</td>\n",
       "      <td>8.192</td>\n",
       "      <td>10.916072</td>\n",
       "      <td>...</td>\n",
       "      <td>0.000000</td>\n",
       "      <td>0.755302</td>\n",
       "      <td>0.000000</td>\n",
       "      <td>0.113377</td>\n",
       "      <td>0.000000</td>\n",
       "      <td>0.004894</td>\n",
       "      <td>0.047308</td>\n",
       "      <td>0.0</td>\n",
       "      <td>0.004078</td>\n",
       "      <td>0.000000</td>\n",
       "    </tr>\n",
       "    <tr>\n",
       "      <th>2</th>\n",
       "      <td>C810550</td>\n",
       "      <td>-73.426565</td>\n",
       "      <td>42.356158</td>\n",
       "      <td>-73.426511</td>\n",
       "      <td>42.356142</td>\n",
       "      <td>51.485724</td>\n",
       "      <td>43.781881</td>\n",
       "      <td>15.991400</td>\n",
       "      <td>3.700</td>\n",
       "      <td>4.434731</td>\n",
       "      <td>...</td>\n",
       "      <td>0.000000</td>\n",
       "      <td>0.725759</td>\n",
       "      <td>0.014064</td>\n",
       "      <td>0.192820</td>\n",
       "      <td>0.001850</td>\n",
       "      <td>0.000000</td>\n",
       "      <td>0.000000</td>\n",
       "      <td>0.0</td>\n",
       "      <td>0.027017</td>\n",
       "      <td>0.000370</td>\n",
       "    </tr>\n",
       "    <tr>\n",
       "      <th>3</th>\n",
       "      <td>C810541</td>\n",
       "      <td>-73.428248</td>\n",
       "      <td>42.360891</td>\n",
       "      <td>-73.428303</td>\n",
       "      <td>42.360900</td>\n",
       "      <td>68.317596</td>\n",
       "      <td>53.732309</td>\n",
       "      <td>16.986442</td>\n",
       "      <td>2.565</td>\n",
       "      <td>2.596205</td>\n",
       "      <td>...</td>\n",
       "      <td>0.000501</td>\n",
       "      <td>0.394089</td>\n",
       "      <td>0.053018</td>\n",
       "      <td>0.280204</td>\n",
       "      <td>0.007598</td>\n",
       "      <td>0.002087</td>\n",
       "      <td>0.044084</td>\n",
       "      <td>0.0</td>\n",
       "      <td>0.098689</td>\n",
       "      <td>0.008683</td>\n",
       "    </tr>\n",
       "    <tr>\n",
       "      <th>4</th>\n",
       "      <td>C810570</td>\n",
       "      <td>-73.430782</td>\n",
       "      <td>42.370858</td>\n",
       "      <td>-73.430722</td>\n",
       "      <td>42.370833</td>\n",
       "      <td>37.624183</td>\n",
       "      <td>35.821539</td>\n",
       "      <td>11.016186</td>\n",
       "      <td>6.422</td>\n",
       "      <td>10.025314</td>\n",
       "      <td>...</td>\n",
       "      <td>0.000000</td>\n",
       "      <td>0.036145</td>\n",
       "      <td>0.000000</td>\n",
       "      <td>0.096386</td>\n",
       "      <td>0.000000</td>\n",
       "      <td>0.000000</td>\n",
       "      <td>0.000000</td>\n",
       "      <td>0.0</td>\n",
       "      <td>0.578313</td>\n",
       "      <td>0.000000</td>\n",
       "    </tr>\n",
       "  </tbody>\n",
       "</table>\n",
       "<p>5 rows × 56 columns</p>\n",
       "</div>"
      ],
      "text/plain": [
       "       BIN    Ini_lon    Ini_lat  lonsnap_10  latsnap_10    Area_10  \\\n",
       "0  C810530 -73.429865  42.334525  -73.429844   42.334566  26.732972   \n",
       "1  C810540 -73.413932  42.345825  -73.413873   42.345798  70.297816   \n",
       "2  C810550 -73.426565  42.356158  -73.426511   42.356142  51.485724   \n",
       "3  C810541 -73.428248  42.360891  -73.428303   42.360900  68.317596   \n",
       "4  C810570 -73.430782  42.370858  -73.430722   42.370833  37.624183   \n",
       "\n",
       "     Peri_10  LFP_len_10  LFP_S_10   Bas_S_10  ...  Barren Land_proportion  \\\n",
       "0  35.821539   11.428346     2.926   2.309196  ...                0.000000   \n",
       "1  59.702565   22.615254     8.192  10.916072  ...                0.000000   \n",
       "2  43.781881   15.991400     3.700   4.434731  ...                0.000000   \n",
       "3  53.732309   16.986442     2.565   2.596205  ...                0.000501   \n",
       "4  35.821539   11.016186     6.422  10.025314  ...                0.000000   \n",
       "\n",
       "  Deciduous Forest_proportion  Evergreen Forest_proportion  \\\n",
       "0                    0.648208                     0.011075   \n",
       "1                    0.755302                     0.000000   \n",
       "2                    0.725759                     0.014064   \n",
       "3                    0.394089                     0.053018   \n",
       "4                    0.036145                     0.000000   \n",
       "\n",
       "   Mixed Forest_proportion  Shrub/Scrub_proportion  Herbaceous_proportion  \\\n",
       "0                 0.110098                0.000000               0.002606   \n",
       "1                 0.113377                0.000000               0.004894   \n",
       "2                 0.192820                0.001850               0.000000   \n",
       "3                 0.280204                0.007598               0.002087   \n",
       "4                 0.096386                0.000000               0.000000   \n",
       "\n",
       "   Hay/Pasture_proportion  Cultivated Crops_proportion  \\\n",
       "0                0.023453                          0.0   \n",
       "1                0.047308                          0.0   \n",
       "2                0.000000                          0.0   \n",
       "3                0.044084                          0.0   \n",
       "4                0.000000                          0.0   \n",
       "\n",
       "   Woody Wetlands_proportion  Emergent Herbaceous Wetlands_proportion  \n",
       "0                   0.059283                                 0.002606  \n",
       "1                   0.004078                                 0.000000  \n",
       "2                   0.027017                                 0.000370  \n",
       "3                   0.098689                                 0.008683  \n",
       "4                   0.578313                                 0.000000  \n",
       "\n",
       "[5 rows x 56 columns]"
      ]
     },
     "execution_count": 10,
     "metadata": {},
     "output_type": "execute_result"
    }
   ],
   "source": [
    "culvert.head()"
   ]
  },
  {
   "cell_type": "code",
   "execution_count": 11,
   "id": "27933f0b-5988-43f4-a2b4-60939845b6bb",
   "metadata": {},
   "outputs": [
    {
     "name": "stdout",
     "output_type": "stream",
     "text": [
      "Completed processing and saved the updated dataset to Excel.\n"
     ]
    }
   ],
   "source": [
    "culvert['urbanized_pro']=culvert['Developed, Open Space_proportion']+culvert['Developed, Low Intensity_proportion'] \\\n",
    "                            +culvert['Developed, Medium Intensity_proportion']+culvert['Developed High Intensity_proportion']\n",
    "# Define the path for the Excel file\n",
    "excel_file_path = r\"D:\\culvert repo\\Results\\waterhsed_delineation_dir\\combined_watersheds_nlcd_proportions.xlsx\"\n",
    "\n",
    "# Save the culvert dataset to an Excel file\n",
    "culvert.to_excel(excel_file_path, index=False)\n",
    "print(\"Completed processing and saved the updated dataset to Excel.\")"
   ]
  },
  {
   "cell_type": "code",
   "execution_count": 12,
   "id": "79a37e21-9849-4599-b501-2b5e94766821",
   "metadata": {},
   "outputs": [
    {
     "data": {
      "text/plain": [
       "<Axes: >"
      ]
     },
     "execution_count": 12,
     "metadata": {},
     "output_type": "execute_result"
    },
    {
     "data": {
      "image/png": "[encoded data removed]",
      "text/plain": [
       "<Figure size 640x480 with 1 Axes>"
      ]
     },
     "metadata": {},
     "output_type": "display_data"
    }
   ],
   "source": [
    "culvert['urbanized_pro']. hist(bins=100)"
   ]
  },
  {
   "cell_type": "code",
   "execution_count": 13,
   "id": "5265d7b7-bb11-4c63-95ce-00134e78b661",
   "metadata": {},
   "outputs": [
    {
     "data": {
      "image/png": "[encoded data removed]",
      "text/plain": [
       "<Figure size 400x300 with 1 Axes>"
      ]
     },
     "metadata": {},
     "output_type": "display_data"
    }
   ],
   "source": [
    "# ECDF plot\n",
    "urbanization_data=np.sort(culvert['urbanized_pro'])\n",
    "cdf = np.arange(1, len(urbanization_data) + 1) / len(urbanization_data)\n",
    "plt.figure(figsize=(4, 3))\n",
    "plt.plot(urbanization_data, cdf, marker=None, linestyle='-')\n",
    "plt.xlabel('Urbanized Proportion of\\n culverts watershed')\n",
    "plt.ylabel('Cumulative Probability')\n",
    "#plt.title('CDF of urbanized proportion of culverts watersheds')\n",
    "plt.show()"
   ]
  },
  {
   "cell_type": "code",
   "execution_count": 14,
   "id": "d9febabc-37ea-45e2-a4d2-422124bd898c",
   "metadata": {},
   "outputs": [
    {
     "name": "stdout",
     "output_type": "stream",
     "text": [
      "BIN                                                                                  C810540\n",
      "Ini_lon                                                                           -73.413932\n",
      "Ini_lat                                                                            42.345825\n",
      "lonsnap_10                                                                        -73.413873\n",
      "latsnap_10                                                                         42.345798\n",
      "Area_10                                                                            70.297816\n",
      "Peri_10                                                                            59.702565\n",
      "LFP_len_10                                                                         22.615254\n",
      "LFP_S_10                                                                               8.192\n",
      "Bas_S_10                                                                           10.916072\n",
      "cul_S10                                                                             0.966899\n",
      "geo_10                                     POLYGON ((1831527.325818976 2368262.517125782,...\n",
      "lonsnap_20                                                                        -73.413981\n",
      "latsnap_20                                                                         42.345927\n",
      "Area_20                                                                       1099509.329372\n",
      "Peri_20                                                                           6827.98339\n",
      "LFP_len_20                                                                        2011.03116\n",
      "LFP_S_20                                                                               6.056\n",
      "Bas_S_20                                                                           16.393674\n",
      "cul_S20                                                                             3.873291\n",
      "geo_20                                     POLYGON ((1830678.5543483198 2368496.352173384...\n",
      "lonsnap_40                                                                        -73.413964\n",
      "latsnap_40                                                                         42.346016\n",
      "Area_40                                                                       1100519.241659\n",
      "Peri_40                                                                          6829.973476\n",
      "LFP_len_40                                                                       2021.393748\n",
      "LFP_S_40                                                                               6.051\n",
      "Bas_S_40                                                                           16.390698\n",
      "cul_S40                                                                             4.441935\n",
      "geo_40                                     POLYGON ((1830678.5543483198 2368496.352173384...\n",
      "lonsnap_80                                                                         -73.41393\n",
      "latsnap_80                                                                         42.346193\n",
      "Area_80                                                                       1101173.704426\n",
      "Peri_80                                                                          6849.874331\n",
      "LFP_len_80                                                                       2043.767564\n",
      "LFP_S_80                                                                               6.043\n",
      "Bas_S_80                                                                           16.389305\n",
      "cul_S80                                                                             4.502108\n",
      "geo_80                                     POLYGON ((1830678.5543483198 2368496.352173384...\n",
      "geo_cul                                         POINT (1831522.4739466754 2368263.769902475)\n",
      "Unclassified_proportion                                                                  0.0\n",
      "Open Water_proportion                                                                    0.0\n",
      "Developed, Open Space_proportion                                                      0.0677\n",
      "Developed, Low Intensity_proportion                                                 0.006525\n",
      "Developed, Medium Intensity_proportion                                              0.000816\n",
      "Developed High Intensity_proportion                                                      0.0\n",
      "Barren Land_proportion                                                                   0.0\n",
      "Deciduous Forest_proportion                                                         0.755302\n",
      "Evergreen Forest_proportion                                                              0.0\n",
      "Mixed Forest_proportion                                                             0.113377\n",
      "Shrub/Scrub_proportion                                                                   0.0\n",
      "Herbaceous_proportion                                                               0.004894\n",
      "Hay/Pasture_proportion                                                              0.047308\n",
      "Cultivated Crops_proportion                                                              0.0\n",
      "Woody Wetlands_proportion                                                           0.004078\n",
      "Emergent Herbaceous Wetlands_proportion                                                  0.0\n",
      "urbanized_pro                                                                       0.075041\n",
      "Name: 1, dtype: object\n"
     ]
    }
   ],
   "source": [
    "# Display the first row of the culvert DataFrame\n",
    "first_row = culvert.iloc[1]\n",
    "print(first_row)"
   ]
  },
  {
   "cell_type": "code",
   "execution_count": 15,
   "id": "fc46ae9e-b4c6-4cbe-ab2d-34cd8d8af045",
   "metadata": {},
   "outputs": [
    {
     "name": "stdout",
     "output_type": "stream",
     "text": [
      "Date and time: 2025-04-30 21:02:50.258838\n"
     ]
    }
   ],
   "source": [
    "# Date and time\n",
    "now = datetime.datetime.now()\n",
    "print(f\"Date and time: {now}\")\n"
   ]
  },
  {
   "cell_type": "code",
   "execution_count": 16,
   "id": "184269a4-a27e-44de-8f99-cffbcb7d7d77",
   "metadata": {},
   "outputs": [
    {
     "name": "stdout",
     "output_type": "stream",
     "text": [
      "Python implementation: CPython\n",
      "Python version       : 3.12.4\n",
      "IPython version      : 8.20.0\n",
      "\n",
      "numpy     : 2.0.2\n",
      "pandas    : 2.2.2\n",
      "matplotlib: 3.8.4\n",
      "rasterio  : 1.4.3\n",
      "geopandas : 1.0.1\n",
      "os        : unknown\n",
      "glob      : unknown\n",
      "tqdm      : 4.66.5\n",
      "\n",
      "Compiler    : MSC v.1940 64 bit (AMD64)\n",
      "OS          : Windows\n",
      "Release     : 11\n",
      "Machine     : AMD64\n",
      "Processor   : Intel64 Family 6 Model 183 Stepping 1, GenuineIntel\n",
      "CPU cores   : 24\n",
      "Architecture: 64bit\n",
      "\n"
     ]
    }
   ],
   "source": [
    "%load_ext watermark\n",
    "# Print the Python version and some dependencies\n",
    "%watermark -v -m -p numpy,pandas,matplotlib,rasterio,geopandas,os,glob,tqdm"
   ]
  },
  {
   "cell_type": "code",
   "execution_count": null,
   "id": "3309e652-28c0-4c74-a582-a4108d54c522",
   "metadata": {},
   "outputs": [],
   "source": []
  }
 ],
 "metadata": {
  "kernelspec": {
   "display_name": "Python 3 (ipykernel)",
   "language": "python",
   "name": "python3"
  },
  "language_info": {
   "codemirror_mode": {
    "name": "ipython",
    "version": 3
   },
   "file_extension": ".py",
   "mimetype": "text/x-python",
   "name": "python",
   "nbconvert_exporter": "python",
   "pygments_lexer": "ipython3",
   "version": "3.12.4"
  }
 },
 "nbformat": 4,
 "nbformat_minor": 5
}
