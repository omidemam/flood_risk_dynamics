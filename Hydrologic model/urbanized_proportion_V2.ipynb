{
 "cells": [
  {
   "cell_type": "markdown",
   "id": "63febcdb-dbc6-475b-a89e-b846522eb836",
   "metadata": {},
   "source": [
    "# This notebook calculates the urbanized proportion of each culvert's watershed\n",
    "##### Author: Omid Emamjomehzadeh (https://www.omidemam.com/)\n",
    "##### Supervisor: Dr. Omar Wani (https://engineering.nyu.edu/faculty/omar-wani)\n",
    "##### Hydrologic Systems Group @NYU (https://www.omarwani.com/)"
   ]
  },
  {
   "cell_type": "code",
   "execution_count": 2,
   "id": "1abdba74-75d7-4cba-ae24-c7062227ffc2",
   "metadata": {},
   "outputs": [],
   "source": [
    "#import libraries\n",
    "import numpy as np\n",
    "import pandas as pd\n",
    "import geopandas as gpd\n",
    "import matplotlib.pyplot as plt\n",
    "import matplotlib.colors as mcolors\n",
    "import rasterio\n",
    "from rasterio.mask import mask\n",
    "from shapely.geometry import mapping\n",
    "import os\n",
    "import glob\n",
    "from tqdm import tqdm\n",
    "import datetime"
   ]
  },
  {
   "cell_type": "code",
   "execution_count": 11,
   "id": "b9207e65-371e-498a-bb32-70e9cf45cd43",
   "metadata": {},
   "outputs": [
    {
     "name": "stdout",
     "output_type": "stream",
     "text": [
      "Class proportions within the watershed polygon: {'Developed, Open Space': np.float64(0.02027679433537174), 'Developed, Low Intensity': np.float64(0.003540392661731574), 'Developed, Medium Intensity': np.float64(0.000643707756678468), 'Developed High Intensity': np.float64(0.000160926939169617), 'Deciduous Forest': np.float64(0.5978435790151271), 'Evergreen Forest': np.float64(0.22030897972320568), 'Mixed Forest': np.float64(0.1393627293208883), 'Herbaceous': np.float64(0.0019311232700354038), 'Hay/Pasture': np.float64(0.000643707756678468), 'Woody Wetlands': np.float64(0.014644351464435146), 'Emergent Herbaceous Wetlands': np.float64(0.000643707756678468)}\n"
     ]
    }
   ],
   "source": [
    "#This cell shows the proportion of each class of NLCD in a watershed\n",
    "# File paths\n",
    "nlcd_file = r'D:\\hydrological analysis\\data\\initial layers\\NLCD_2021_5070.tif'\n",
    "watershed_shp = r\"D:\\hydrological analysis\\data\\waterhsed_delineation_dir\\020200010406\\C170040watershed_poly_50m.shp\"\n",
    "\n",
    "# Load the watershed polygon\n",
    "watershed_gdf = gpd.read_file(watershed_shp)\n",
    "\n",
    "# Define custom colors and class names for each class\n",
    "custom_colors = {\n",
    "    0: 'black',                    # Unclassified\n",
    "    11: 'deepskyblue',             # Open Water\n",
    "    21: 'lightyellow',             # Developed, Open Space\n",
    "    22: 'wheat',                   # Developed, Low Intensity\n",
    "    23: 'sandybrown',              # Developed, Medium Intensity\n",
    "    24: 'firebrick',               # Developed High Intensity\n",
    "    31: 'khaki',                   # Barren Land\n",
    "    41: 'forestgreen',             # Deciduous Forest\n",
    "    42: 'darkgreen',               # Evergreen Forest\n",
    "    43: 'yellowgreen',             # Mixed Forest\n",
    "    52: 'olivedrab',               # Shrub/Scrub\n",
    "    71: 'palegreen',               # Herbaceous\n",
    "    81: 'lightgreen',              # Hay/Pasture\n",
    "    82: 'limegreen',               # Cultivated Crops\n",
    "    90: 'royalblue',               # Woody Wetlands\n",
    "    95: 'aquamarine'               # Emergent Herbaceous Wetlands\n",
    "}\n",
    "\n",
    "# Class descriptions for each code\n",
    "class_descriptions = {\n",
    "    0: 'Unclassified',\n",
    "    11: 'Open Water',\n",
    "    21: 'Developed, Open Space',\n",
    "    22: 'Developed, Low Intensity',\n",
    "    23: 'Developed, Medium Intensity',\n",
    "    24: 'Developed High Intensity',\n",
    "    31: 'Barren Land',\n",
    "    41: 'Deciduous Forest',\n",
    "    42: 'Evergreen Forest',\n",
    "    43: 'Mixed Forest',\n",
    "    52: 'Shrub/Scrub',\n",
    "    71: 'Herbaceous',\n",
    "    81: 'Hay/Pasture',\n",
    "    82: 'Cultivated Crops',\n",
    "    90: 'Woody Wetlands',\n",
    "    95: 'Emergent Herbaceous Wetlands'\n",
    "}\n",
    "\n",
    "# Create a colormap based on custom colors\n",
    "cmap = mcolors.ListedColormap([custom_colors[key] for key in sorted(custom_colors.keys())])\n",
    "\n",
    "# Function to clip a raster by a polygon and calculate class proportions\n",
    "def calculate_class_proportions(nlcd_file, watershed_gdf):\n",
    "    with rasterio.open(nlcd_file) as src:\n",
    "        # Clip raster to watershed polygon\n",
    "        out_image, out_transform = mask(src, [mapping(watershed_gdf.geometry.iloc[0])], crop=True)\n",
    "        out_image = np.ma.masked_where(out_image == -128, out_image)  # Mask NoData\n",
    "        \n",
    "        # Calculate proportions\n",
    "        unique, counts = np.unique(out_image.compressed(), return_counts=True)\n",
    "        total_pixels = counts.sum()\n",
    "        proportions = {class_descriptions.get(int(k), 'Unknown'): v / total_pixels for k, v in zip(unique, counts)}\n",
    "        \n",
    "        return out_image, out_transform, proportions\n",
    "\n",
    "# Clip and calculate proportions\n",
    "clipped_data, transform, class_proportions = calculate_class_proportions(nlcd_file, watershed_gdf)\n",
    "print(\"Class proportions within the watershed polygon:\", class_proportions)"
   ]
  },
  {
   "cell_type": "code",
   "execution_count": 21,
   "id": "d6710c44-ccce-40fc-8a63-9b45b1e45e2e",
   "metadata": {},
   "outputs": [
    {
     "name": "stdout",
     "output_type": "stream",
     "text": [
      "Found 23955 shapefiles.\n",
      "CPU times: total: 547 ms\n",
      "Wall time: 1.69 s\n"
     ]
    }
   ],
   "source": [
    "# Gather all paths for different watershed files\n",
    "# Define the root directory to search in\n",
    "root_dir = r\"D:\\hydrological analysis\\data\\waterhsed_delineation_dir\"\n",
    "\n",
    "# Define the pattern to search for shapefiles\n",
    "pattern = os.path.join(root_dir, '**', '*watershed_poly_*m.shp')\n",
    "\n",
    "# Use glob to find all matching shapefiles\n",
    "shapefile_paths = glob.glob(pattern, recursive=True)\n",
    "\n",
    "# Print the number of shapefiles found\n",
    "print(f\"Found {len(shapefile_paths)} shapefiles.\")"
   ]
  },
  {
   "cell_type": "code",
   "execution_count": 41,
   "id": "2a236670-b754-4144-b169-cef2970c515b",
   "metadata": {},
   "outputs": [
    {
     "name": "stderr",
     "output_type": "stream",
     "text": [
      "Processing culverts: 100%|█████████████████████████████████████████████████████████| 8468/8468 [13:28<00:00, 10.47it/s]\n",
      "C:\\Users\\Omid Emamjomehzadeh\\AppData\\Local\\Temp\\ipykernel_24912\\2772561405.py:91: UserWarning: Column names longer than 10 characters will be truncated when saved to ESRI Shapefile.\n",
      "  culvert.to_file(file_path, driver='ESRI Shapefile')\n"
     ]
    },
    {
     "name": "stdout",
     "output_type": "stream",
     "text": [
      "Completed processing and saved the updated shapefile.\n"
     ]
    }
   ],
   "source": [
    "# Load culverts watershed\n",
    "file_path=r\"C:\\hydrological analysis\\data\\waterhsed_delineation_dir\\combined_watersheds_info.shp\"\n",
    "culvert = gpd.read_file(file_path)\n",
    "\n",
    "# Define paths\n",
    "root_dir = r\"D:\\hydrological analysis\\data\\waterhsed_delineation_dir\"\n",
    "pattern = os.path.join(root_dir, '**', '*watershed_poly_*m.shp')\n",
    "shapefile_paths = glob.glob(pattern, recursive=True)\n",
    "\n",
    "nlcd_file = r'D:\\hydrological analysis\\data\\initial layers\\NLCD_2021_5070.tif'\n",
    "\n",
    "# Class descriptions for each code\n",
    "class_descriptions = {\n",
    "    0: 'Unclassified',\n",
    "    11: 'Open Water',\n",
    "    21: 'Developed, Open Space',\n",
    "    22: 'Developed, Low Intensity',\n",
    "    23: 'Developed, Medium Intensity',\n",
    "    24: 'Developed High Intensity',\n",
    "    31: 'Barren Land',\n",
    "    41: 'Deciduous Forest',\n",
    "    42: 'Evergreen Forest',\n",
    "    43: 'Mixed Forest',\n",
    "    52: 'Shrub/Scrub',\n",
    "    71: 'Herbaceous',\n",
    "    81: 'Hay/Pasture',\n",
    "    82: 'Cultivated Crops',\n",
    "    90: 'Woody Wetlands',\n",
    "    95: 'Emergent Herbaceous Wetlands'\n",
    "}\n",
    "\n",
    "# Initialize columns in culvert for class proportions and CN values\n",
    "for class_name in class_descriptions.values():\n",
    "    culvert[f'{class_name}_proportion'] = np.nan\n",
    "\n",
    "\n",
    "\n",
    "# Function to calculate class proportions\n",
    "def calculate_class_proportions(nlcd_file, watershed_gdf):\n",
    "    with rasterio.open(nlcd_file) as src:\n",
    "        out_image, out_transform = mask(src, [mapping(watershed_gdf.geometry.iloc[0])], crop=True)\n",
    "        out_image = np.ma.masked_where(out_image == -128, out_image)  # Mask NoData\n",
    "        \n",
    "        unique, counts = np.unique(out_image.compressed(), return_counts=True)\n",
    "        total_pixels = counts.sum()\n",
    "        # Set proportion to 0 for any missing classes\n",
    "        proportions = {class_name: 0 for class_name in class_descriptions.values()}\n",
    "        # Only update proportions for classes that are present\n",
    "        for k, v in zip(unique, counts):\n",
    "            class_name = class_descriptions.get(int(k), 'Unknown')\n",
    "            if class_name in proportions:\n",
    "                proportions[class_name] = v / total_pixels\n",
    "        \n",
    "        return proportions\n",
    "\n",
    "# Process each culvert\n",
    "for error in [50]:\n",
    "    for idx, row in tqdm(culvert.iterrows(), total=culvert.shape[0], desc='Processing culverts'):\n",
    "        specific_pattern = f\"{culvert['BIN'].iloc[idx]}watershed_poly_{error}m.shp\"\n",
    "# Gather all paths for different watershed files\n",
    "\n",
    "        for path in shapefile_paths:\n",
    "            if specific_pattern in os.path.basename(path):\n",
    "                matching_path = path\n",
    "                break\n",
    "        \n",
    "        watershed = gpd.read_file(matching_path)\n",
    "        watershed_geom = [feature[\"geometry\"] for feature in watershed.__geo_interface__[\"features\"]]\n",
    "\n",
    "        # Calculate class proportions for the current watershed\n",
    "        class_proportions = calculate_class_proportions(nlcd_file, watershed)\n",
    "        for class_name, proportion in class_proportions.items():\n",
    "            culvert.loc[idx, f'{class_name}_proportion'] = proportion\n",
    "\n",
    "# Save the updated culvert dataset to a shapefile\n",
    "file_path = r\"C:\\hydrological analysis\\data\\waterhsed_delineation_dir\\combined_watersheds_nlcd_proportions.shp\"\n",
    "culvert.to_file(file_path, driver='ESRI Shapefile')\n",
    "print(\"Completed processing and saved the updated shapefile.\")\n"
   ]
  },
  {
   "cell_type": "code",
   "execution_count": 49,
   "id": "27933f0b-5988-43f4-a2b4-60939845b6bb",
   "metadata": {},
   "outputs": [
    {
     "name": "stdout",
     "output_type": "stream",
     "text": [
      "Completed processing and saved the updated dataset to Excel.\n"
     ]
    }
   ],
   "source": [
    "culvert. drop (['CN_25','CN_50','CN_75'], axis=1)\n",
    "culvert['urbanized_pro']=culvert['Developed, Open Space_proportion']+culvert['Developed, Low Intensity_proportion'] \\\n",
    "                            +culvert['Developed, Medium Intensity_proportion']+culvert['Developed High Intensity_proportion']\n",
    "# save to an Excel file\n",
    "excel_file_path = r\"C:\\hydrological analysis\\data\\waterhsed_delineation_dir\\combined_watersheds_nlcd_proportions.xlsx\"\n",
    "\n",
    "# Save the culvert dataset to an Excel file\n",
    "culvert.to_excel(excel_file_path, index=False)\n",
    "print(\"Completed processing and saved the updated dataset to Excel.\")"
   ]
  },
  {
   "cell_type": "code",
   "execution_count": 51,
   "id": "79a37e21-9849-4599-b501-2b5e94766821",
   "metadata": {},
   "outputs": [
    {
     "data": {
      "text/plain": [
       "<Axes: >"
      ]
     },
     "execution_count": 51,
     "metadata": {},
     "output_type": "execute_result"
    },
    {
     "data": {
      "image/png": "[encoded data removed]",
      "text/plain": [
       "<Figure size 640x480 with 1 Axes>"
      ]
     },
     "metadata": {},
     "output_type": "display_data"
    }
   ],
   "source": [
    "culvert['urbanized_pro']. hist(bins=100)"
   ]
  },
  {
   "cell_type": "code",
   "execution_count": 63,
   "id": "5265d7b7-bb11-4c63-95ce-00134e78b661",
   "metadata": {},
   "outputs": [
    {
     "data": {
      "image/png": "[encoded data removed]",
      "text/plain": [
       "<Figure size 800x600 with 1 Axes>"
      ]
     },
     "metadata": {},
     "output_type": "display_data"
    }
   ],
   "source": [
    "#Plot the ECDF\n",
    "urbanization_data=np.sort(culvert['urbanized_pro'])\n",
    "cdf = np.arange(1, len(urbanization_data) + 1) / len(urbanization_data)\n",
    "# Plot the CDF\n",
    "plt.figure(figsize=(8, 6))\n",
    "plt.plot(urbanization_data, cdf, marker=None, linestyle='-')\n",
    "plt.xlabel('Urbanized Proportion of culverts watershed')\n",
    "plt.ylabel('Cumulative Probability')\n",
    "plt.title('CDF of urbanized proportion of culverts watersheds')\n",
    "plt.grid(True)\n",
    "plt.show()"
   ]
  },
  {
   "cell_type": "code",
   "execution_count": 48,
   "id": "1a45183a-eca4-422e-b881-b7bc9843f320",
   "metadata": {},
   "outputs": [
    {
     "data": {
      "text/plain": [
       "Index(['BIN', 'Ini_lon', 'Ini_lat', 'lonsnap_25', 'latsnap_25', 'Area_25',\n",
       "       'Peri_25', 'LFP_len_25', 'LFP_S_25', 'Bas_S_25', 'HW_10_25', 'HW_15_25',\n",
       "       'HW_20_25', 'cul_S105', 'cul_S2025', 'cul_S3025', 'lonsnap_50',\n",
       "       'latsnap_50', 'Area_50', 'Peri_50', 'LFP_len_50', 'LFP_S_50',\n",
       "       'Bas_S_50', 'HW_10_50', 'HW_15_50', 'HW_20_50', 'cul_S1050',\n",
       "       'cul_S2050', 'cul_S3050', 'lonsnap_75', 'latsnap_75', 'Area_75',\n",
       "       'Peri_75', 'LFP_len_75', 'LFP_S_75', 'Bas_S_75', 'HW_10_75', 'HW_15_75',\n",
       "       'HW_20_75', 'cul_S1075', 'cul_S2075', 'cul_S3075', 'geometry',\n",
       "       'Unclassified_proportion', 'Open Water_proportion',\n",
       "       'Developed, Open Space_proportion',\n",
       "       'Developed, Low Intensity_proportion',\n",
       "       'Developed, Medium Intensity_proportion',\n",
       "       'Developed High Intensity_proportion', 'Barren Land_proportion',\n",
       "       'Deciduous Forest_proportion', 'Evergreen Forest_proportion',\n",
       "       'Mixed Forest_proportion', 'Shrub/Scrub_proportion',\n",
       "       'Herbaceous_proportion', 'Hay/Pasture_proportion',\n",
       "       'Cultivated Crops_proportion', 'Woody Wetlands_proportion',\n",
       "       'Emergent Herbaceous Wetlands_proportion', 'CN_25', 'CN_50', 'CN_75'],\n",
       "      dtype='object')"
      ]
     },
     "execution_count": 48,
     "metadata": {},
     "output_type": "execute_result"
    }
   ],
   "source": [
    "culvert.columns"
   ]
  },
  {
   "cell_type": "code",
   "execution_count": 39,
   "id": "d9febabc-37ea-45e2-a4d2-422124bd898c",
   "metadata": {},
   "outputs": [
    {
     "name": "stdout",
     "output_type": "stream",
     "text": [
      "BIN                                                                                  C810540\n",
      "Ini_lon                                                                           -73.413932\n",
      "Ini_lat                                                                            42.345825\n",
      "lonsnap_25                                                                        -73.413979\n",
      "latsnap_25                                                                         42.345944\n",
      "Area_25                                                                       1009674.981749\n",
      "Peri_25                                                                          6159.342816\n",
      "LFP_len_25                                                                       2009.033101\n",
      "LFP_S_25                                                                               5.828\n",
      "Bas_S_25                                                                           16.541958\n",
      "HW_10_25                                                                            0.484436\n",
      "HW_15_25                                                                            1.552094\n",
      "HW_20_25                                                                            1.944885\n",
      "cul_S105                                                                            3.799744\n",
      "cul_S2025                                                                           2.341236\n",
      "cul_S3025                                                                           1.560884\n",
      "lonsnap_50                                                                        -73.413954\n",
      "latsnap_50                                                                         42.346058\n",
      "Area_50                                                                       1010008.651898\n",
      "Peri_50                                                                          6173.273479\n",
      "LFP_len_50                                                                       2022.380878\n",
      "LFP_S_50                                                                               5.823\n",
      "Bas_S_50                                                                           16.542002\n",
      "HW_10_50                                                                             0.62854\n",
      "HW_15_50                                                                            0.955078\n",
      "HW_20_50                                                                            1.260712\n",
      "cul_S1050                                                                           4.882507\n",
      "cul_S2050                                                                           4.831848\n",
      "cul_S3050                                                                           3.841383\n",
      "lonsnap_75                                                                        -73.413943\n",
      "latsnap_75                                                                         42.346166\n",
      "Area_75                                                                       1011266.103204\n",
      "Peri_75                                                                          6183.223952\n",
      "LFP_len_75                                                                        2035.14577\n",
      "LFP_S_75                                                                               5.811\n",
      "Bas_S_75                                                                           16.539501\n",
      "HW_10_75                                                                              0.5159\n",
      "HW_15_75                                                                            0.901001\n",
      "HW_20_75                                                                            1.146606\n",
      "cul_S1075                                                                           5.360413\n",
      "cul_S2075                                                                           5.718536\n",
      "cul_S3075                                                                           5.211385\n",
      "geometry                                   POLYGON ((1830676.2210289799 2368496.190500898...\n",
      "Unclassified_proportion                                                                  0.0\n",
      "Open Water_proportion                                                                    0.0\n",
      "Developed, Open Space_proportion                                                    0.060606\n",
      "Developed, Low Intensity_proportion                                                 0.005348\n",
      "Developed, Medium Intensity_proportion                                              0.000891\n",
      "Developed High Intensity_proportion                                                      0.0\n",
      "Barren Land_proportion                                                                   0.0\n",
      "Deciduous Forest_proportion                                                         0.772727\n",
      "Evergreen Forest_proportion                                                              0.0\n",
      "Mixed Forest_proportion                                                             0.117647\n",
      "Shrub/Scrub_proportion                                                                   0.0\n",
      "Herbaceous_proportion                                                               0.005348\n",
      "Hay/Pasture_proportion                                                              0.032977\n",
      "Cultivated Crops_proportion                                                              0.0\n",
      "Woody Wetlands_proportion                                                           0.004456\n",
      "Emergent Herbaceous Wetlands_proportion                                                  0.0\n",
      "Name: 1, dtype: object\n"
     ]
    }
   ],
   "source": [
    "# Display the first row of the culvert DataFrame\n",
    "first_row = culvert.iloc[1]\n",
    "print(first_row)"
   ]
  },
  {
   "cell_type": "code",
   "execution_count": 3,
   "id": "fc46ae9e-b4c6-4cbe-ab2d-34cd8d8af045",
   "metadata": {},
   "outputs": [
    {
     "name": "stdout",
     "output_type": "stream",
     "text": [
      "Date and time: 2025-04-30 20:24:33.798227\n"
     ]
    }
   ],
   "source": [
    "# Date and time\n",
    "now = datetime.datetime.now()\n",
    "print(f\"Date and time: {now}\")\n"
   ]
  },
  {
   "cell_type": "code",
   "execution_count": 4,
   "id": "184269a4-a27e-44de-8f99-cffbcb7d7d77",
   "metadata": {},
   "outputs": [
    {
     "name": "stdout",
     "output_type": "stream",
     "text": [
      "Python implementation: CPython\n",
      "Python version       : 3.12.4\n",
      "IPython version      : 8.20.0\n",
      "\n",
      "numpy     : 2.0.2\n",
      "pandas    : 2.2.2\n",
      "matplotlib: 3.8.4\n",
      "rasterio  : 1.4.3\n",
      "geopandas : 1.0.1\n",
      "os        : unknown\n",
      "glob      : unknown\n",
      "tqdm      : 4.66.5\n",
      "\n",
      "Compiler    : MSC v.1940 64 bit (AMD64)\n",
      "OS          : Windows\n",
      "Release     : 11\n",
      "Machine     : AMD64\n",
      "Processor   : Intel64 Family 6 Model 183 Stepping 1, GenuineIntel\n",
      "CPU cores   : 24\n",
      "Architecture: 64bit\n",
      "\n"
     ]
    }
   ],
   "source": [
    "%load_ext watermark\n",
    "# Print the Python version and some dependencies\n",
    "%watermark -v -m -p numpy,pandas,matplotlib,rasterio,geopandas,os,glob,tqdm"
   ]
  },
  {
   "cell_type": "code",
   "execution_count": null,
   "id": "90c3b0bb-4741-425b-90d9-7f2f4eda702b",
   "metadata": {},
   "outputs": [],
   "source": []
  }
 ],
 "metadata": {
  "kernelspec": {
   "display_name": "Python 3 (ipykernel)",
   "language": "python",
   "name": "python3"
  },
  "language_info": {
   "codemirror_mode": {
    "name": "ipython",
    "version": 3
   },
   "file_extension": ".py",
   "mimetype": "text/x-python",
   "name": "python",
   "nbconvert_exporter": "python",
   "pygments_lexer": "ipython3",
   "version": "3.12.4"
  }
 },
 "nbformat": 4,
 "nbformat_minor": 5
}
