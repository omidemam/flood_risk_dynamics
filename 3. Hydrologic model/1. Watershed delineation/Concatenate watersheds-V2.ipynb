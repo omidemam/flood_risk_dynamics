{
 "cells": [
  {
   "cell_type": "markdown",
   "id": "58127616-93e0-401c-9672-40450bc708a9",
   "metadata": {},
   "source": [
    "## This notebook gathers all watersheds that are delineated in a GDF and creates one geodataframe for all\n",
    "##### Author: Omid Emamjomehzadeh (https://www.omidemam.com/)\n",
    "##### Supervisor: Dr. Omar Wani (https://engineering.nyu.edu/faculty/omar-wani)\n",
    "##### Hydrologic Systems Group @NYU (https://www.omarwani.com/)"
   ]
  },
  {
   "cell_type": "code",
   "execution_count": 1,
   "id": "dca1641d-1a0d-4351-a0f4-73450d6fb071",
   "metadata": {},
   "outputs": [],
   "source": [
    "#Import libraries\n",
    "from matplotlib import rcParams\n",
    "import matplotlib.pyplot as plt\n",
    "import matplotlib.patches as mpatches\n",
    "from matplotlib.lines import Line2D\n",
    "from matplotlib_scalebar.scalebar import ScaleBar\n",
    "import numpy as np\n",
    "import geopandas as gpd\n",
    "import pandas as pd \n",
    "import os\n",
    "from datetime import datetime\n",
    "import watermark\n",
    "from pyproj import CRS\n",
    "from shapely.geometry import shape\n",
    "import contextily as ctx"
   ]
  },
  {
   "cell_type": "code",
   "execution_count": 2,
   "id": "68f79d0c-bdd6-4449-8a30-5246d4d896d1",
   "metadata": {},
   "outputs": [],
   "source": [
    "import warnings\n",
    "# Suppress the specific RuntimeWarning\n",
    "warnings.filterwarnings(\"ignore\")\n",
    "# Suppress all UserWarnings, including PerformanceWarnings\n",
    "warnings.simplefilter('ignore', category=UserWarning)\n",
    "# plot with Arial font\n",
    "plt.rcParams['font.family'] = 'Arial'"
   ]
  },
  {
   "cell_type": "code",
   "execution_count": 2,
   "id": "3c1abdef-ec46-403d-8f00-dc6d2e1232ee",
   "metadata": {},
   "outputs": [
    {
     "name": "stdout",
     "output_type": "stream",
     "text": [
      "Total number of hucs is: 1234\n"
     ]
    }
   ],
   "source": [
    "# path to tall hucs\n",
    "all_hucs_path = r\"D:\\culvert repo\\Results\\Lists\\huc12_with_all_layers.txt\"\n",
    "# read the path\n",
    "with open(all_hucs_path, 'r') as huc:\n",
    "    All_huc_list = huc.read().splitlines()\n",
    "# Total number of HUCS\n",
    "num_all_hucs = set(All_huc_list)\n",
    "print(f'Total number of hucs is: {len(num_all_hucs)}')"
   ]
  },
  {
   "cell_type": "code",
   "execution_count": 4,
   "id": "7a480244-c7f6-4244-adc5-edf80e76d232",
   "metadata": {},
   "outputs": [
    {
     "name": "stdout",
     "output_type": "stream",
     "text": [
      "Combined shapefile saved to: D:\\culvert repo\\Results\\waterhsed_delineation_dir\\combined_watersheds_info.shp\n",
      "CPU times: total: 13.5 s\n",
      "Wall time: 8min 49s\n"
     ]
    }
   ],
   "source": [
    "%%time\n",
    "# Gather all analyzed shapefiles files in a shapefile\n",
    "# Define the main directory\n",
    "main_dir = r\"D:\\culvert repo\\Results\\waterhsed_delineation_dir\"\n",
    "# Initialize an empty GeoDataFrame \n",
    "all_culverts = gpd.GeoDataFrame()  \n",
    "successful_folders = []\n",
    "# loop over all possible shapefiles \n",
    "for folder in os.listdir(main_dir):\n",
    "    folder_path = os.path.join(main_dir, folder)\n",
    "    # Check if it's a directory\n",
    "    if os.path.isdir(folder_path):\n",
    "        # define shapefile path \n",
    "        file_path = os.path.join(folder_path, f'{folder}_watersheds_info.shp')\n",
    "        # Check if the shapefile exists\n",
    "        if os.path.isfile(file_path):\n",
    "            # Read the shapefile\n",
    "            culvert = gpd.read_file(file_path)\n",
    "            # Concatenate culvert to all_culverts\n",
    "            if not all_culverts.empty:\n",
    "                all_culverts = pd.concat([all_culverts, culvert], ignore_index=True)\n",
    "            else:\n",
    "                all_culverts = culvert\n",
    "            # Add the folder to the list if concatenation is successful\n",
    "            successful_folders.append(folder)\n",
    "# Save the combined culverts'watershed geoDataFrame to a shapefile\n",
    "output_file = r\"D:\\culvert repo\\Results\\waterhsed_delineation_dir\\combined_watersheds_info.shp\"\n",
    "if not all_culverts.empty:\n",
    "    all_culverts.to_file(output_file)\n",
    "    print(f\"Combined shapefile saved to: {output_file}\")"
   ]
  },
  {
   "cell_type": "code",
   "execution_count": 7,
   "id": "ebca6751-0398-406b-86af-4bba09bd0d95",
   "metadata": {},
   "outputs": [
    {
     "name": "stdout",
     "output_type": "stream",
     "text": [
      "Combined Excel file saved to: D:\\culvert repo\\Results\\waterhsed_delineation_dir\\combined_watersheds_info.xlsx\n",
      "CPU times: total: 21.5 s\n",
      "Wall time: 4min 58s\n"
     ]
    }
   ],
   "source": [
    "%%time\n",
    "# Gather all analyzed .xlsx files in a .xlsx file\n",
    "# Define the main directory\n",
    "# Initialize an empty GeoDataFrame \n",
    "all_watersheds = pd.DataFrame()  # Initialize an empty DataFrame for Excel files\n",
    "successful_folders = []\n",
    "# Loop over all possible .xlsx files \n",
    "for folder in os.listdir(main_dir):\n",
    "    folder_path = os.path.join(main_dir, folder)\n",
    "    # Check if it's a directory\n",
    "    if os.path.isdir(folder_path):\n",
    "        # Excel file path\n",
    "        xlsx_file_path = os.path.join(folder_path, f'{folder}_watersheds_info.xlsx')\n",
    "        # Process the Excel file if it exists\n",
    "        if os.path.isfile(xlsx_file_path):\n",
    "            #print(f\"Processing Excel file: {xlsx_file_path}\")\n",
    "            # Read the Excel file\n",
    "            watersheds = pd.read_excel(xlsx_file_path)\n",
    "            # Concatenate Excel data to all_watersheds\n",
    "            if not all_watersheds.empty:\n",
    "                all_watersheds = pd.concat([all_watersheds, watersheds], ignore_index=True)\n",
    "            else:\n",
    "                all_watersheds = watersheds\n",
    "            # Add the folder to the list if any file was processed successfully\n",
    "            successful_folders.append(folder)\n",
    "# Save the combined DataFrame to an Excel file\n",
    "output_file = r'D:\\culvert repo\\Results\\waterhsed_delineation_dir\\combined_watersheds_info.xlsx'\n",
    "if not all_watersheds.empty:\n",
    "    all_watersheds.to_excel(output_file, index=False)\n",
    "    print(f\"Combined Excel file saved to: {output_file}\")"
   ]
  },
  {
   "cell_type": "markdown",
   "id": "b58ca8c1-353c-4b26-af4c-14d5dc9726b1",
   "metadata": {},
   "source": [
    "#### Load other shapefiles"
   ]
  },
  {
   "cell_type": "code",
   "execution_count": 3,
   "id": "8b00c910-0509-460a-aa50-492413ab1f11",
   "metadata": {},
   "outputs": [
    {
     "name": "stdout",
     "output_type": "stream",
     "text": [
      "CPU times: total: 5.2 s\n",
      "Wall time: 5.47 s\n"
     ]
    }
   ],
   "source": [
    "%%time\n",
    "\n",
    "# Define file paths\n",
    "base_dir=r'D:\\culvert repo\\data\\initial layers'\n",
    "state_shapefile_path = rf\"{base_dir}\\state_5070.shp\"\n",
    "stream_shapefile_path = rf\"{base_dir}\\stream_5070.shp\"\n",
    "road_shapefile_path = rf\"{base_dir}\\road_5070.shp\"\n",
    "railroad_shapefile_path = rf\"{base_dir}\\railroad_NYS_cliped.shp\"\n",
    "culvert_shapefile_path = rf\"{base_dir}\\culvert_5070.shp\"\n",
    "HUC12_shapefile_path = rf\"{base_dir}\\HUC_12_5070.shp\"\n",
    "\n",
    "# Load shapefiles\n",
    "state_shapefile = gpd.read_file(state_shapefile_path)\n",
    "stream_shapefile= gpd.read_file(stream_shapefile_path)\n",
    "road_shapefile= gpd.read_file(road_shapefile_path)\n",
    "railroad_shapefile=gpd.read_file(railroad_shapefile_path).to_crs(epsg=5070)\n",
    "culvert_shapefile=gpd.read_file(culvert_shapefile_path).drop_duplicates(subset='BIN', keep='first')# Drop duplicates \n",
    "HUC12_shapefile=gpd.read_file(HUC12_shapefile_path)\n",
    "# Load the watersheds shapefile\n",
    "watersheds_shapefile = gpd.read_file(r\"D:\\culvert repo\\Results\\waterhsed_delineation_dir\\combined_watersheds_info.shp\")"
   ]
  },
  {
   "cell_type": "code",
   "execution_count": 4,
   "id": "bcf0066b-58c5-4668-8415-16115ead3d31",
   "metadata": {},
   "outputs": [],
   "source": [
    "# load other shapefiles for visulization\n",
    "state_shapefile_path = r\"D:\\hydrological analysis\\data\\initial layers\\state_5070.shp\"\n",
    "road_shapefile_path = r\"D:\\hydrological analysis\\data\\initial layers\\road_5070.shp\"\n",
    "culvert_shapefile_path = r\"D:\\hydrological analysis\\data\\initial layers\\culvert_5070.shp\"\n",
    "HUC12_shapefile_path = r\"D:\\hydrological analysis\\data\\initial layers\\HUC_12_5070.shp\"\n",
    "\n",
    "# Load th shapefiles\n",
    "state_shapefile = gpd.read_file(state_shapefile_path)\n",
    "road_shapefile= gpd.read_file(road_shapefile_path)\n",
    "culvert_shapefile=gpd.read_file(culvert_shapefile_path)\n",
    "HUC12_shapefile = gpd.read_file(HUC12_shapefile_path)\n",
    "stream_shapefile = gpd.read_file(r\"C:\\hydrological analysis\\data\\initial layers\\stream_5070.shp\")\n",
    "# Load the watersheds shapefile\n",
    "watersheds_shapefile = gpd.read_file(r\"D:\\culvert repo\\Results\\waterhsed_delineation_dir\\combined_watersheds_info.shp\")"
   ]
  },
  {
   "cell_type": "markdown",
   "id": "bc607b2d-2409-48f1-840c-405385486b5d",
   "metadata": {},
   "source": [
    "# Plot culverts' watersheds"
   ]
  },
  {
   "cell_type": "code",
   "execution_count": null,
   "id": "354c3051-f967-46fb-9870-93bab613ec3f",
   "metadata": {},
   "outputs": [],
   "source": [
    "stream_shapefile['geometry'] = stream_shapefile.simplify(tolerance=0.0001, preserve_topology=True)\n",
    "\n",
    "# Reproject the shapefiles to EPSG:3857 (if necessary)\n",
    "if state_shapefile.crs != \"EPSG:3857\":\n",
    "    state_shapefile = state_shapefile.to_crs(epsg=3857)\n",
    "if road_shapefile.crs != \"EPSG:3857\":\n",
    "    road_shapefile = road_shapefile.to_crs(epsg=3857)\n",
    "if culvert_shapefile.crs != \"EPSG:3857\":\n",
    "    culvert_shapefile = culvert_shapefile.to_crs(epsg=3857)\n",
    "if watersheds_shapefile.crs != \"EPSG:3857\":\n",
    "    watersheds_shapefile = watersheds_shapefile.to_crs(epsg=3857)\n",
    "if stream_shapefile.crs != \"EPSG:3857\":  # Reproject the stream shapefile\n",
    "    stream_shapefile = stream_shapefile.to_crs(epsg=3857)\n",
    "\n",
    "# Create a new figure and axis\n",
    "fig, ax = plt.subplots(figsize=(10, 8))\n",
    "\n",
    "# Plot the state shapefile with transparency\n",
    "state_shapefile.plot(ax=ax, edgecolor='black', linewidth=1, facecolor='none', alpha=0.6)\n",
    "\n",
    "# Plot the road shapefile with transparency\n",
    "road_shapefile.plot(ax=ax, color='orange', linewidth=0.3, alpha=0.4)\n",
    "\n",
    "# Plot the stream shapefile with high transparency to make it less visible\n",
    "stream_shapefile.plot(ax=ax, color='blue', linewidth=0.3, alpha=0.2)\n",
    "\n",
    "# Define a colormap for watersheds (different shades of gray)\n",
    "cmap = plt.get_cmap('Greys', 10)  # Using 10 different shades of gray\n",
    "watersheds_shapefile['color'] = watersheds_shapefile.index % 10  # Assign colors based on index\n",
    "\n",
    "# Plot the watersheds shapefile with a black border\n",
    "watersheds_shapefile.plot(ax=ax, edgecolor='black', linewidth=0.3, \n",
    "                          facecolor=cmap(watersheds_shapefile['color'] / 10), alpha=0.9)  # Less transparent\n",
    "\n",
    "# Plot the culvert shapefile with full visibility\n",
    "culvert_shapefile.plot(ax=ax, color='red', markersize=0.5, alpha=1, marker='o', linestyle='None')\n",
    "\n",
    "# Add title and labels in Times New Roman font\n",
    "ax.set_xlabel('Longitude', fontname='Times New Roman', fontsize=18)\n",
    "ax.set_ylabel('Latitude', fontname='Times New Roman', fontsize=18)\n",
    "\n",
    "# Set the axis limits to focus on the New York State area\n",
    "minx, miny, maxx, maxy = state_shapefile.total_bounds\n",
    "ax.set_xlim(minx, maxx)\n",
    "ax.set_ylim(miny, maxy)\n",
    "\n",
    "# Create custom legend handles\n",
    "legend_handles = [\n",
    "    mpatches.Patch(edgecolor='black', facecolor='none', linewidth=1, label='New York State Boundary'),\n",
    "    Line2D([0], [0], color='orange', lw=0.6, alpha=0.4, label='Roads'),\n",
    "    Line2D([0], [0], marker='o', color='red', markersize=3, alpha=1, linestyle='None', label='Culverts'),\n",
    "    Line2D([0], [0], color='blue', lw=0.6, alpha=0.2, label='Streams'),\n",
    "    mpatches.Patch(edgecolor='black', facecolor='lightgray', linewidth=0.6, label='Watersheds')  # Black border for watersheds\n",
    "]\n",
    "\n",
    "# Add scale bar\n",
    "scalebar = ScaleBar(1, units=\"m\", dimension=\"si-length\", location=\"lower left\")\n",
    "ax.add_artist(scalebar)\n",
    "\n",
    "# Add base map with transparency\n",
    "ctx.add_basemap(ax, source=ctx.providers.CartoDB.Positron, crs=3857, alpha=0.6)\n",
    "\n",
    "# Save the plot\n",
    "plt.savefig(r'D:\\culvert repo\\Results\\Figures\\HUC12_road_stream_culvert_watershed_layer_for_NYS_final.png', dpi=300)\n",
    "\n",
    "# Display the plot\n",
    "plt.show()"
   ]
  },
  {
   "cell_type": "code",
   "execution_count": 6,
   "id": "0add65a6-aaaf-47a3-bb5a-2c7fa54f07bc",
   "metadata": {},
   "outputs": [
    {
     "name": "stdout",
     "output_type": "stream",
     "text": [
      "Date and Time of the Notebook Analysis: 2025-04-30 18:40:34.271803\n"
     ]
    }
   ],
   "source": [
    "#Getting the current date and time\n",
    "current_datetime = datetime.now()\n",
    "\n",
    "# Printing the date and time\n",
    "print(\"Date and Time of the Notebook Analysis:\", current_datetime)"
   ]
  },
  {
   "cell_type": "code",
   "execution_count": 8,
   "id": "0f7181fe-c814-4144-a9bd-0159da361350",
   "metadata": {},
   "outputs": [
    {
     "name": "stdout",
     "output_type": "stream",
     "text": [
      "The watermark extension is already loaded. To reload it, use:\n",
      "  %reload_ext watermark\n",
      "Python implementation: CPython\n",
      "Python version       : 3.12.4\n",
      "IPython version      : 8.20.0\n",
      "\n",
      "numpy     : 2.0.2\n",
      "pandas    : 2.2.2\n",
      "geopandas : 1.0.1\n",
      "matplotlib: 3.8.4\n",
      "contextily: 1.6.1\n",
      "pyproj    : 3.7.1\n",
      "shapely   : 2.0.7\n",
      "\n",
      "Compiler    : MSC v.1940 64 bit (AMD64)\n",
      "OS          : Windows\n",
      "Release     : 11\n",
      "Machine     : AMD64\n",
      "Processor   : Intel64 Family 6 Model 183 Stepping 1, GenuineIntel\n",
      "CPU cores   : 24\n",
      "Architecture: 64bit\n",
      "\n"
     ]
    }
   ],
   "source": [
    "%load_ext watermark\n",
    "# Print the Python version and some dependencies\n",
    "%watermark -v -m -p numpy,pandas,geopandas,matplotlib,contextily,pyproj,shapely"
   ]
  },
  {
   "cell_type": "code",
   "execution_count": null,
   "id": "fcb1b60e-b5d7-4566-b3ee-3ea95156eba2",
   "metadata": {},
   "outputs": [],
   "source": []
  }
 ],
 "metadata": {
  "kernelspec": {
   "display_name": "Python 3 (ipykernel)",
   "language": "python",
   "name": "python3"
  },
  "language_info": {
   "codemirror_mode": {
    "name": "ipython",
    "version": 3
   },
   "file_extension": ".py",
   "mimetype": "text/x-python",
   "name": "python",
   "nbconvert_exporter": "python",
   "pygments_lexer": "ipython3",
   "version": "3.12.4"
  }
 },
 "nbformat": 4,
 "nbformat_minor": 5
}
