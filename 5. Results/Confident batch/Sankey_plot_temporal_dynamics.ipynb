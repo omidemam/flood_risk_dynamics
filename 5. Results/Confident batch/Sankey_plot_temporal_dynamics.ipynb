{
 "cells": [
  {
   "cell_type": "markdown",
   "id": "b7fc71aa-04df-4c8b-8f4d-935b50fa6bec",
   "metadata": {},
   "source": [
    "# Temporal dynamics of risk \n",
    "##### Author: Omid Emamjomehzadeh (https://www.omidemam.com/)\n",
    "##### Supervisor: Dr. Omar Wani (https://engineering.nyu.edu/faculty/omar-wani)\n",
    "##### Hydrologic Systems Group @NYU (https://www.omarwani.com/)"
   ]
  },
  {
   "cell_type": "code",
   "execution_count": 1,
   "id": "d90f5ae5-ad9f-4b6f-8521-06f98fa7a640",
   "metadata": {},
   "outputs": [],
   "source": [
    "# Run by geo_plot_env"
   ]
  },
  {
   "cell_type": "code",
   "execution_count": 1,
   "id": "84280a0d-1897-4d38-b527-cda846db5856",
   "metadata": {},
   "outputs": [],
   "source": [
    "import pandas as pd\n",
    "import matplotlib.pyplot as plt\n",
    "import seaborn as sns\n",
    "import numpy as np\n",
    "import plotly.graph_objects as go\n",
    "import plotly.io as pio\n",
    "from watermark import watermark\n",
    "import datetime"
   ]
  },
  {
   "cell_type": "code",
   "execution_count": 2,
   "id": "d2425798-e8a0-4ab4-9e84-0ad23a15a001",
   "metadata": {},
   "outputs": [],
   "source": [
    "import warnings\n",
    "# Suppress the specific RuntimeWarning\n",
    "warnings.filterwarnings(\"ignore\")\n",
    "# Suppress all UserWarnings, including PerformanceWarnings\n",
    "warnings.simplefilter('ignore', category=UserWarning)"
   ]
  },
  {
   "cell_type": "markdown",
   "id": "57c2d58c",
   "metadata": {},
   "source": [
    "# Sankey plot"
   ]
  },
  {
   "cell_type": "code",
   "execution_count": 3,
   "id": "11f73e9c",
   "metadata": {},
   "outputs": [],
   "source": [
    "excel_output_file = r'D:\\culvert repo\\Results\\Peak hydrologic discharge\\culvert_hydrq_hydoq.xlsx'\n",
    "excel_output_file = r'D:\\culvert repo\\Results\\Peak hydrologic discharge\\culvert_hydrq_hydoq_UL_LL.xlsx'\n",
    "excel_output_file = r'D:\\culvert repo\\Results\\Peak hydrologic discharge\\culvert_hydrq_hydoq_wet_dry.xlsx'\n",
    "excel_output_file = r'D:\\culvert repo\\Results\\Peak hydrologic discharge\\culvert_hydrq_hydoq_2030_2100.xlsx'\n",
    "excel_output_file = r'D:\\culvert repo\\Results\\Peak hydrologic discharge\\culvert_hydrq_hydoq_2030_2100.xlsx'\n",
    "excel_output_file = r'D:\\culvert repo\\Results\\Peak hydrologic discharge\\culvert_hydrq_hydoq_2030_2100_future_rainandQ.xlsx'\n",
    "excel_output_file = r'D:\\culvert repo\\Results\\Peak hydrologic discharge\\culvert_hydrq_hydoq_2030_2100_future_rain_LU_Q.xlsx'\n",
    "merged_culvert=pd.read_excel(excel_output_file)"
   ]
  },
  {
   "cell_type": "code",
   "execution_count": 4,
   "id": "36b31843",
   "metadata": {},
   "outputs": [
    {
     "name": "stdout",
     "output_type": "stream",
     "text": [
      "CPU times: total: 15.1 s\n",
      "Wall time: 16.1 s\n"
     ]
    }
   ],
   "source": [
    "%%time\n",
    "# calculates return periods up t0 100-years\n",
    "# calculate the return periods and their class\n",
    "def assign_return_period(row):\n",
    "    if row['Q'] < row['Q_2']:\n",
    "        return pd.Series([2, '0-2'])\n",
    "    elif row['Q'] < row['Q_5']:\n",
    "        return pd.Series([5, '2-5'])\n",
    "    elif row['Q'] < row['Q_10']:\n",
    "        return pd.Series([10, '5-10'])\n",
    "    elif row['Q'] < row['Q_25']:\n",
    "        return pd.Series([25, '10-25'])\n",
    "    elif row['Q'] < row['Q_50']:\n",
    "        return pd.Series([50, '25-50'])\n",
    "    elif row['Q'] < row['Q_100']:\n",
    "        return pd.Series([100, '50-100'])\n",
    "    elif row['Q'] < row['Q_200']:\n",
    "        return pd.Series([200, '100-$∞$'])\n",
    "    elif row['Q'] < row['Q_500']:\n",
    "        return pd.Series([200, '100-$∞$'])\n",
    "    elif row['Q'] < row['Q_1000']:\n",
    "        return pd.Series([200, '100-$∞$'])\n",
    "    else:\n",
    "        return pd.Series([200, '100-$∞$'])\n",
    "\n",
    "def assign_return_period_c(row):\n",
    "    if row['average_Q_maxhw'] < row['Q_2']:\n",
    "        return pd.Series([2, '0-2'])\n",
    "    elif row['average_Q_maxhw'] < row['Q_5']:\n",
    "        return pd.Series([5, '2-5'])\n",
    "    elif row['average_Q_maxhw'] < row['Q_10']:\n",
    "        return pd.Series([10, '5-10'])\n",
    "    elif row['average_Q_maxhw'] < row['Q_25']:\n",
    "        return pd.Series([25, '10-25'])\n",
    "    elif row['average_Q_maxhw'] < row['Q_50']:\n",
    "        return pd.Series([50, '25-50'])\n",
    "    elif row['average_Q_maxhw'] < row['Q_100']:\n",
    "        return pd.Series([100, '50-100'])\n",
    "    elif row['average_Q_maxhw'] < row['Q_200']:\n",
    "        return pd.Series([200, '100-$∞$'])\n",
    "    elif row['average_Q_maxhw'] < row['Q_500']:\n",
    "        return pd.Series([200, '100-$∞$'])\n",
    "    elif row['average_Q_maxhw'] < row['Q_1000']:\n",
    "        return pd.Series([200, '100-$∞$'])\n",
    "    else:\n",
    "        return pd.Series([200, '100-$∞$'])\n",
    "        \n",
    "def assign_return_period_c_LL(row):\n",
    "    if row['average_Q_maxhw'] < row['Q_LL_2']:\n",
    "        return pd.Series([2, '0-2'])\n",
    "    elif row['average_Q_maxhw'] < row['Q_LL_5']:\n",
    "        return pd.Series([5, '2-5'])\n",
    "    elif row['average_Q_maxhw'] < row['Q_LL_10']:\n",
    "        return pd.Series([10, '5-10'])\n",
    "    elif row['average_Q_maxhw'] < row['Q_LL_25']:\n",
    "        return pd.Series([25, '10-25'])\n",
    "    elif row['average_Q_maxhw'] < row['Q_LL_50']:\n",
    "        return pd.Series([50, '25-50'])\n",
    "    elif row['average_Q_maxhw'] < row['Q_LL_100']:\n",
    "        return pd.Series([100, '50-100'])\n",
    "    elif row['average_Q_maxhw'] < row['Q_LL_200']:\n",
    "        return pd.Series([200, '100-$∞$'])\n",
    "    elif row['average_Q_maxhw'] < row['Q_LL_500']:\n",
    "        return pd.Series([200, '100-$∞$'])\n",
    "    elif row['average_Q_maxhw'] < row['Q_LL_1000']:\n",
    "        return pd.Series([200, '100-$∞$'])\n",
    "    else:\n",
    "        return pd.Series([200, '100-$∞$'])\n",
    "\n",
    "def assign_return_period_c_UL(row):\n",
    "    if row['average_Q_maxhw'] < row['Q_UL_2']:\n",
    "        return pd.Series([2, '0-2'])\n",
    "    elif row['average_Q_maxhw'] < row['Q_UL_5']:\n",
    "        return pd.Series([5, '2-5'])\n",
    "    elif row['average_Q_maxhw'] < row['Q_UL_10']:\n",
    "        return pd.Series([10, '5-10'])\n",
    "    elif row['average_Q_maxhw'] < row['Q_UL_25']:\n",
    "        return pd.Series([25, '10-25'])\n",
    "    elif row['average_Q_maxhw'] < row['Q_UL_50']:\n",
    "        return pd.Series([50, '25-50'])\n",
    "    elif row['average_Q_maxhw'] < row['Q_UL_100']:\n",
    "        return pd.Series([100, '50-100'])\n",
    "    elif row['average_Q_maxhw'] < row['Q_UL_200']:\n",
    "        return pd.Series([200, '100-$∞$'])\n",
    "    elif row['average_Q_maxhw'] < row['Q_UL_500']:\n",
    "        return pd.Series([200, '100-$∞$'])\n",
    "    elif row['average_Q_maxhw'] < row['Q_UL_1000']:\n",
    "        return pd.Series([200, '100-$∞$'])\n",
    "    else:\n",
    "        return pd.Series([200, '100-$∞$'])\n",
    "        \n",
    "def assign_return_period_c_condition(row, condition):\n",
    "    q_val = row['average_Q_maxhw']\n",
    "    # Build the appropriate Q column names dynamically\n",
    "    if q_val < row[f'Q_2_{condition}']:\n",
    "        return pd.Series([2, '0-2'])\n",
    "    elif q_val < row[f'Q_5_{condition}']:\n",
    "        return pd.Series([5, '2-5'])\n",
    "    elif q_val < row[f'Q_10_{condition}']:\n",
    "        return pd.Series([10, '5-10'])\n",
    "    elif q_val < row[f'Q_25_{condition}']:\n",
    "        return pd.Series([25, '10-25'])\n",
    "    elif q_val < row[f'Q_50_{condition}']:\n",
    "        return pd.Series([50, '25-50'])\n",
    "    elif q_val < row[f'Q_100_{condition}']:\n",
    "        return pd.Series([100, '50-100'])\n",
    "    elif q_val < row[f'Q_200_{condition}']:\n",
    "        return pd.Series([200, '100-$∞$'])\n",
    "    elif q_val < row[f'Q_500_{condition}']:\n",
    "        return pd.Series([200, '100-$∞$'])\n",
    "    elif q_val < row[f'Q_1000_{condition}']:\n",
    "        return pd.Series([200, '100-$∞$'])\n",
    "    else:\n",
    "        return pd.Series([200, '100-$∞$'])\n",
    "        \n",
    "def assign_return_period_c_future_LU (row, year, secnario):\n",
    "    q_val = row['average_Q_maxhw']\n",
    "    if row['average_Q_maxhw'] < row[f'Q_2_{year}_{secnario}_Wet']:\n",
    "        return pd.Series([2, '0-2'])\n",
    "    elif row['average_Q_maxhw'] < row[f'Q_5_{year}_{secnario}_Wet']:\n",
    "        return pd.Series([5, '2-5'])\n",
    "    elif row['average_Q_maxhw'] < row[f'Q_10_{year}_{secnario}_Wet']:\n",
    "        return pd.Series([10, '5-10'])\n",
    "    elif row['average_Q_maxhw'] < row[f'Q_25_{year}_{secnario}_Wet']:\n",
    "        return pd.Series([25, '10-25'])\n",
    "    elif row['average_Q_maxhw'] < row[f'Q_50_{year}_{secnario}_Wet']:\n",
    "        return pd.Series([50, '25-50'])\n",
    "    elif row['average_Q_maxhw'] < row[f'Q_100_{year}_{secnario}_Wet']:\n",
    "        return pd.Series([100, '50-100'])\n",
    "    elif row['average_Q_maxhw'] < row[f'Q_200_{year}_{secnario}_Wet']:\n",
    "        return pd.Series([200, '100-$∞$'])\n",
    "    elif row['average_Q_maxhw'] < row[f'Q_500_{year}_{secnario}_Wet']:\n",
    "        return pd.Series([200, '100-$∞$'])\n",
    "    elif row['average_Q_maxhw'] < row[f'Q_1000_{year}_{secnario}_Wet']:\n",
    "        return pd.Series([200, '100-$∞$'])\n",
    "    else:\n",
    "        return pd.Series([200, '100-$∞$'])  \n",
    "\n",
    "def assign_return_period_c_future_rain (row, year, secnario):\n",
    "    q_val = row['average_Q_maxhw']\n",
    "    if row['average_Q_maxhw'] < row[f'Q_2_{time}_{scenario}']:\n",
    "        return pd.Series([2, '0-2'])\n",
    "    elif row['average_Q_maxhw'] < row[f'Q_5_{time}_{scenario}']:\n",
    "        return pd.Series([5, '2-5'])\n",
    "    elif row['average_Q_maxhw'] < row[f'Q_10_{time}_{scenario}']:\n",
    "        return pd.Series([10, '5-10'])\n",
    "    elif row['average_Q_maxhw'] < row[f'Q_25_{time}_{scenario}']:\n",
    "        return pd.Series([25, '10-25'])\n",
    "    elif row['average_Q_maxhw'] < row[f'Q_50_{time}_{scenario}']:\n",
    "        return pd.Series([50, '25-50'])\n",
    "    elif row['average_Q_maxhw'] < row[f'Q_100_{time}_{scenario}']:\n",
    "        return pd.Series([100, '50-100'])\n",
    "    else:\n",
    "        return pd.Series([200, '100-$∞$']) \n",
    "\n",
    "\n",
    "def assign_return_period_c_future_rain_LL(row, year, scenario):\n",
    "    # Convert A2/B2 to rcp85/rcp45\n",
    "    rcp = 'rcp85' if scenario == 'A2' else 'rcp45'\n",
    "    q_val = row['average_Q_maxhw']\n",
    "    \n",
    "    if q_val < row[f'Q_2_{year}_{scenario}_Wet_fr']:\n",
    "        return pd.Series([2, '0-2'])\n",
    "    elif q_val < row[f'Q_5_{year}_{scenario}_Wet_fr']:\n",
    "        return pd.Series([5, '2-5'])\n",
    "    elif q_val < row[f'Q_10_{year}_{scenario}_Wet_fr']:\n",
    "        return pd.Series([10, '5-10'])\n",
    "    elif q_val < row[f'Q_25_{year}_{scenario}_Wet_fr']:\n",
    "        return pd.Series([25, '10-25'])\n",
    "    elif q_val < row[f'Q_50_{year}_{scenario}_Wet_fr']:\n",
    "        return pd.Series([50, '25-50'])\n",
    "    elif q_val < row[f'Q_100_{year}_{scenario}_Wet_fr']:\n",
    "        return pd.Series([100, '50-100'])\n",
    "    else:\n",
    "        return pd.Series([200, '100-$∞$'])  \n",
    "               \n",
    "# Apply the function\n",
    "merged_culvert[['RP', 'RP_class']] = merged_culvert.apply(assign_return_period, axis=1)\n",
    "merged_culvert[['RP_c', 'RP_class_c']] = merged_culvert.apply(assign_return_period_c, axis=1)\n",
    "merged_culvert[['RP_c_LL', 'RP_class_c_LL']] = merged_culvert.apply(assign_return_period_c_UL, axis=1)\n",
    "merged_culvert[['RP_c_UL', 'RP_class_c_UL']] = merged_culvert.apply(assign_return_period_c_LL, axis=1)\n",
    "merged_culvert[['RP_c_dry', 'RP_class_c_dry']] = merged_culvert.apply(lambda row: assign_return_period_c_condition(row, 'dry'), axis=1)\n",
    "merged_culvert[['RP_c_nor', 'RP_class_c_nor']] = merged_culvert.apply(lambda row: assign_return_period_c_condition(row, 'nor'), axis=1)\n",
    "# \n",
    "for year in [2030, 2040, 2050, 2060, 2070, 2080, 2090, 2100]:\n",
    "    for secnario in ['A1B', 'A2', 'B1', 'B2']:\n",
    "        merged_culvert[[f'RP_c_{year}_{secnario}', f'RP_class_c_{year}_{secnario}']] = \\\n",
    "            merged_culvert.apply(lambda row: assign_return_period_c_future_LU (row, year, secnario), axis=1)\n",
    "#\n",
    "for time in ['2010-2039','2040-2069','2070-2099']:\n",
    "    for scenario in ['rcp45','rcp85']:\n",
    "        merged_culvert[[f'RP_c_{time}_{scenario}', f'RP_class_c_{time}_{scenario}']] = \\\n",
    "            merged_culvert.apply(lambda row: assign_return_period_c_future_rain (row, time, secnario), axis=1)\n",
    "#\n",
    "for year in [2030, 2040, 2050, 2060, 2070, 2080, 2090, 2100]:\n",
    "    for secnario in ['A2', 'B2']:\n",
    "        merged_culvert[[f'RP_c_{year}_{secnario}_lr', f'RP_class_c_{year}_{secnario}_lr']] = \\\n",
    "            merged_culvert.apply(lambda row: assign_return_period_c_future_rain_LL (row, year, secnario), axis=1)"
   ]
  },
  {
   "cell_type": "code",
   "execution_count": 5,
   "id": "3df5b700-5d7a-4c17-9bbe-e5bb558df0f1",
   "metadata": {},
   "outputs": [],
   "source": [
    "merged_culvert.replace({'100-$∞$': '100-∞'}, inplace=True)\n",
    "ordered_classes = ['0-2', '2-5', '5-10', '10-25', '25-50', '50-100', '100-∞']"
   ]
  },
  {
   "cell_type": "code",
   "execution_count": 23,
   "id": "0a878c4f",
   "metadata": {},
   "outputs": [],
   "source": [
    "def make_sankey_for_scenario(scenario, scenario_label, color_map):\n",
    "    class_labels = ordered_classes\n",
    "    node_labels = [f\"{cls} \" for cls in class_labels] + \\\n",
    "                  [f\"{cls} \" for cls in class_labels] + \\\n",
    "                  [f\"{cls} \" for cls in class_labels]\n",
    "\n",
    "    node_x = [0] * len(class_labels) + [0.5] * len(class_labels) + [1] * len(class_labels)\n",
    "    node_y = list(np.linspace(0, 1, len(class_labels))) * 3\n",
    "\n",
    "    col_2030 = f'RP_class_c_2030_{scenario}_lr'\n",
    "    col_2060 = f'RP_class_c_2060_{scenario}_lr'\n",
    "    col_2090 = f'RP_class_c_2090_{scenario}_lr'\n",
    "\n",
    "    df = merged_culvert.dropna(subset=[col_2030, col_2060, col_2090])\n",
    "\n",
    "    df[col_2030] = pd.Categorical(df[col_2030], categories=class_labels, ordered=True)\n",
    "    df[col_2060] = pd.Categorical(df[col_2060], categories=class_labels, ordered=True)\n",
    "    df[col_2090] = pd.Categorical(df[col_2090], categories=class_labels, ordered=True)\n",
    "\n",
    "    # Transition matrices\n",
    "    trans_2030_2060 = pd.crosstab(df[col_2030], df[col_2060]).reindex(index=class_labels, columns=class_labels, fill_value=0)\n",
    "    trans_2060_2090 = pd.crosstab(df[col_2060], df[col_2090]).reindex(index=class_labels, columns=class_labels, fill_value=0)\n",
    "\n",
    "    sources, targets, values, link_colors = [], [], [], []\n",
    "\n",
    "    # 2030 → 2060\n",
    "    for i, src in enumerate(class_labels):\n",
    "        for j, tgt in enumerate(class_labels):\n",
    "            count = trans_2030_2060.loc[src, tgt]\n",
    "            if count > 0:\n",
    "                sources.append(i)\n",
    "                targets.append(j + len(class_labels))\n",
    "                values.append(count)\n",
    "                link_colors.append(color_map[src].replace('0.8', '0.4'))\n",
    "\n",
    "    # 2060 → 2090\n",
    "    for i, src in enumerate(class_labels):\n",
    "        for j, tgt in enumerate(class_labels):\n",
    "            count = trans_2060_2090.loc[src, tgt]\n",
    "            if count > 0:\n",
    "                sources.append(i + len(class_labels))\n",
    "                targets.append(j + 2 * len(class_labels))\n",
    "                values.append(count)\n",
    "                link_colors.append(color_map[src].replace('0.8', '0.4'))\n",
    "\n",
    "    # Node colors\n",
    "    node_colors = [color_map[cls] for cls in class_labels] * 3\n",
    "\n",
    "    # Build figure\n",
    "    fig = go.Figure(go.Sankey(\n",
    "        arrangement='fixed',\n",
    "        node=dict(\n",
    "            pad=25,\n",
    "            thickness=10,\n",
    "            label=node_labels,\n",
    "            x=node_x,\n",
    "            y=node_y,\n",
    "            color=node_colors,\n",
    "            line=dict(color='black', width=0.5),\n",
    "            align='right'\n",
    "        ),\n",
    "        link=dict(\n",
    "            arrowlen=8,\n",
    "            source=sources,\n",
    "            target=targets,\n",
    "            value=values,\n",
    "            color=link_colors\n",
    "        )\n",
    "    ))\n",
    "    ppi=350\n",
    "    # Title\n",
    "    fig.update_layout(\n",
    "        width=0.8*3*ppi,\n",
    "        height=0.8*ppi,\n",
    "        margin=dict(l=20, r=20, t=40, b=20),\n",
    "        font=dict(\n",
    "        family=\"Arial\",\n",
    "        size=16,\n",
    "        color=\"black\"\n",
    "        )\n",
    "        #title_text=f\"Flow of Culverts Across Return Periods ({scenario_label}: 2030 → 2060 → 2090)\",\n",
    "    )\n",
    "    #)\n",
    "    fig.show()\n",
    "    # Save\n",
    "    pio.write_html(fig, fr\"D:\\culvert repo\\Results\\Figures\\sankey_diagram_{scenario_label}.html\") "
   ]
  },
  {
   "cell_type": "code",
   "execution_count": 24,
   "id": "72c13d6b",
   "metadata": {},
   "outputs": [
    {
     "data": {
      "application/vnd.plotly.v1+json": {
       "config": {
        "plotlyServerURL": "https://plot.ly"
       },
       "data": [
        {
         "arrangement": "fixed",
         "link": {
          "arrowlen": 8,
          "color": [
           "rgba(139, 0, 0, 0.4)",
           "rgba(178, 34, 34, 0.4)",
           "rgba(178, 34, 34, 0.4)",
           "rgba(220, 20, 60, 0.4)",
           "rgba(220, 20, 60, 0.4)",
           "rgba(220, 20, 60, 0.4)",
           "rgba(255, 99, 71, 0.4)",
           "rgba(255, 99, 71, 0.4)",
           "rgba(255, 99, 71, 0.4)",
           "rgba(60, 179, 113, 0.4)",
           "rgba(60, 179, 113, 0.4)",
           "rgba(60, 179, 113, 0.4)",
           "rgba(46, 139, 87, 0.4)",
           "rgba(46, 139, 87, 0.4)",
           "rgba(46, 139, 87, 0.4)",
           "rgba(0, 128, 0, 0.4)",
           "rgba(0, 128, 0, 0.4)",
           "rgba(139, 0, 0, 0.4)",
           "rgba(178, 34, 34, 0.4)",
           "rgba(220, 20, 60, 0.4)",
           "rgba(220, 20, 60, 0.4)",
           "rgba(255, 99, 71, 0.4)",
           "rgba(255, 99, 71, 0.4)",
           "rgba(60, 179, 113, 0.4)",
           "rgba(60, 179, 113, 0.4)",
           "rgba(46, 139, 87, 0.4)",
           "rgba(46, 139, 87, 0.4)",
           "rgba(0, 128, 0, 0.4)",
           "rgba(0, 128, 0, 0.4)"
          ],
          "source": [
           0,
           1,
           1,
           2,
           2,
           2,
           3,
           3,
           3,
           4,
           4,
           4,
           5,
           5,
           5,
           6,
           6,
           7,
           8,
           9,
           9,
           10,
           10,
           11,
           11,
           12,
           12,
           13,
           13
          ],
          "target": [
           7,
           7,
           8,
           8,
           9,
           10,
           9,
           10,
           11,
           10,
           11,
           12,
           11,
           12,
           13,
           12,
           13,
           14,
           15,
           15,
           16,
           16,
           17,
           17,
           18,
           18,
           19,
           19,
           20
          ],
          "value": [
           12,
           2,
           10,
           2,
           15,
           2,
           2,
           43,
           2,
           7,
           51,
           7,
           10,
           105,
           8,
           10,
           2093,
           14,
           12,
           1,
           16,
           6,
           46,
           9,
           54,
           20,
           102,
           23,
           2078
          ]
         },
         "node": {
          "align": "right",
          "color": [
           "rgba(139, 0, 0, 0.8)",
           "rgba(178, 34, 34, 0.8)",
           "rgba(220, 20, 60, 0.8)",
           "rgba(255, 99, 71, 0.8)",
           "rgba(60, 179, 113, 0.8)",
           "rgba(46, 139, 87, 0.8)",
           "rgba(0, 128, 0, 0.8)",
           "rgba(139, 0, 0, 0.8)",
           "rgba(178, 34, 34, 0.8)",
           "rgba(220, 20, 60, 0.8)",
           "rgba(255, 99, 71, 0.8)",
           "rgba(60, 179, 113, 0.8)",
           "rgba(46, 139, 87, 0.8)",
           "rgba(0, 128, 0, 0.8)",
           "rgba(139, 0, 0, 0.8)",
           "rgba(178, 34, 34, 0.8)",
           "rgba(220, 20, 60, 0.8)",
           "rgba(255, 99, 71, 0.8)",
           "rgba(60, 179, 113, 0.8)",
           "rgba(46, 139, 87, 0.8)",
           "rgba(0, 128, 0, 0.8)"
          ],
          "label": [
           "0-2 ",
           "2-5 ",
           "5-10 ",
           "10-25 ",
           "25-50 ",
           "50-100 ",
           "100-∞ ",
           "0-2 ",
           "2-5 ",
           "5-10 ",
           "10-25 ",
           "25-50 ",
           "50-100 ",
           "100-∞ ",
           "0-2 ",
           "2-5 ",
           "5-10 ",
           "10-25 ",
           "25-50 ",
           "50-100 ",
           "100-∞ "
          ],
          "line": {
           "color": "black",
           "width": 0.5
          },
          "pad": 25,
          "thickness": 10,
          "x": [
           0,
           0,
           0,
           0,
           0,
           0,
           0,
           0.5,
           0.5,
           0.5,
           0.5,
           0.5,
           0.5,
           0.5,
           1,
           1,
           1,
           1,
           1,
           1,
           1
          ],
          "y": [
           0,
           0.16666666666666666,
           0.3333333333333333,
           0.5,
           0.6666666666666666,
           0.8333333333333333,
           1,
           0,
           0.16666666666666666,
           0.3333333333333333,
           0.5,
           0.6666666666666666,
           0.8333333333333333,
           1,
           0,
           0.16666666666666666,
           0.3333333333333333,
           0.5,
           0.6666666666666666,
           0.8333333333333333,
           1
          ]
         },
         "type": "sankey"
        }
       ],
       "layout": {
        "font": {
         "color": "black",
         "family": "Arial",
         "size": 16
        },
        "height": 280,
        "margin": {
         "b": 20,
         "l": 20,
         "r": 20,
         "t": 40
        },
        "template": {
         "data": {
          "bar": [
           {
            "error_x": {
             "color": "#2a3f5f"
            },
            "error_y": {
             "color": "#2a3f5f"
            },
            "marker": {
             "line": {
              "color": "#E5ECF6",
              "width": 0.5
             },
             "pattern": {
              "fillmode": "overlay",
              "size": 10,
              "solidity": 0.2
             }
            },
            "type": "bar"
           }
          ],
          "barpolar": [
           {
            "marker": {
             "line": {
              "color": "#E5ECF6",
              "width": 0.5
             },
             "pattern": {
              "fillmode": "overlay",
              "size": 10,
              "solidity": 0.2
             }
            },
            "type": "barpolar"
           }
          ],
          "carpet": [
           {
            "aaxis": {
             "endlinecolor": "#2a3f5f",
             "gridcolor": "white",
             "linecolor": "white",
             "minorgridcolor": "white",
             "startlinecolor": "#2a3f5f"
            },
            "baxis": {
             "endlinecolor": "#2a3f5f",
             "gridcolor": "white",
             "linecolor": "white",
             "minorgridcolor": "white",
             "startlinecolor": "#2a3f5f"
            },
            "type": "carpet"
           }
          ],
          "choropleth": [
           {
            "colorbar": {
             "outlinewidth": 0,
             "ticks": ""
            },
            "type": "choropleth"
           }
          ],
          "contour": [
           {
            "colorbar": {
             "outlinewidth": 0,
             "ticks": ""
            },
            "colorscale": [
             [
              0,
              "#0d0887"
             ],
             [
              0.1111111111111111,
              "#46039f"
             ],
             [
              0.2222222222222222,
              "#7201a8"
             ],
             [
              0.3333333333333333,
              "#9c179e"
             ],
             [
              0.4444444444444444,
              "#bd3786"
             ],
             [
              0.5555555555555556,
              "#d8576b"
             ],
             [
              0.6666666666666666,
              "#ed7953"
             ],
             [
              0.7777777777777778,
              "#fb9f3a"
             ],
             [
              0.8888888888888888,
              "#fdca26"
             ],
             [
              1,
              "#f0f921"
             ]
            ],
            "type": "contour"
           }
          ],
          "contourcarpet": [
           {
            "colorbar": {
             "outlinewidth": 0,
             "ticks": ""
            },
            "type": "contourcarpet"
           }
          ],
          "heatmap": [
           {
            "colorbar": {
             "outlinewidth": 0,
             "ticks": ""
            },
            "colorscale": [
             [
              0,
              "#0d0887"
             ],
             [
              0.1111111111111111,
              "#46039f"
             ],
             [
              0.2222222222222222,
              "#7201a8"
             ],
             [
              0.3333333333333333,
              "#9c179e"
             ],
             [
              0.4444444444444444,
              "#bd3786"
             ],
             [
              0.5555555555555556,
              "#d8576b"
             ],
             [
              0.6666666666666666,
              "#ed7953"
             ],
             [
              0.7777777777777778,
              "#fb9f3a"
             ],
             [
              0.8888888888888888,
              "#fdca26"
             ],
             [
              1,
              "#f0f921"
             ]
            ],
            "type": "heatmap"
           }
          ],
          "histogram": [
           {
            "marker": {
             "pattern": {
              "fillmode": "overlay",
              "size": 10,
              "solidity": 0.2
             }
            },
            "type": "histogram"
           }
          ],
          "histogram2d": [
           {
            "colorbar": {
             "outlinewidth": 0,
             "ticks": ""
            },
            "colorscale": [
             [
              0,
              "#0d0887"
             ],
             [
              0.1111111111111111,
              "#46039f"
             ],
             [
              0.2222222222222222,
              "#7201a8"
             ],
             [
              0.3333333333333333,
              "#9c179e"
             ],
             [
              0.4444444444444444,
              "#bd3786"
             ],
             [
              0.5555555555555556,
              "#d8576b"
             ],
             [
              0.6666666666666666,
              "#ed7953"
             ],
             [
              0.7777777777777778,
              "#fb9f3a"
             ],
             [
              0.8888888888888888,
              "#fdca26"
             ],
             [
              1,
              "#f0f921"
             ]
            ],
            "type": "histogram2d"
           }
          ],
          "histogram2dcontour": [
           {
            "colorbar": {
             "outlinewidth": 0,
             "ticks": ""
            },
            "colorscale": [
             [
              0,
              "#0d0887"
             ],
             [
              0.1111111111111111,
              "#46039f"
             ],
             [
              0.2222222222222222,
              "#7201a8"
             ],
             [
              0.3333333333333333,
              "#9c179e"
             ],
             [
              0.4444444444444444,
              "#bd3786"
             ],
             [
              0.5555555555555556,
              "#d8576b"
             ],
             [
              0.6666666666666666,
              "#ed7953"
             ],
             [
              0.7777777777777778,
              "#fb9f3a"
             ],
             [
              0.8888888888888888,
              "#fdca26"
             ],
             [
              1,
              "#f0f921"
             ]
            ],
            "type": "histogram2dcontour"
           }
          ],
          "mesh3d": [
           {
            "colorbar": {
             "outlinewidth": 0,
             "ticks": ""
            },
            "type": "mesh3d"
           }
          ],
          "parcoords": [
           {
            "line": {
             "colorbar": {
              "outlinewidth": 0,
              "ticks": ""
             }
            },
            "type": "parcoords"
           }
          ],
          "pie": [
           {
            "automargin": true,
            "type": "pie"
           }
          ],
          "scatter": [
           {
            "fillpattern": {
             "fillmode": "overlay",
             "size": 10,
             "solidity": 0.2
            },
            "type": "scatter"
           }
          ],
          "scatter3d": [
           {
            "line": {
             "colorbar": {
              "outlinewidth": 0,
              "ticks": ""
             }
            },
            "marker": {
             "colorbar": {
              "outlinewidth": 0,
              "ticks": ""
             }
            },
            "type": "scatter3d"
           }
          ],
          "scattercarpet": [
           {
            "marker": {
             "colorbar": {
              "outlinewidth": 0,
              "ticks": ""
             }
            },
            "type": "scattercarpet"
           }
          ],
          "scattergeo": [
           {
            "marker": {
             "colorbar": {
              "outlinewidth": 0,
              "ticks": ""
             }
            },
            "type": "scattergeo"
           }
          ],
          "scattergl": [
           {
            "marker": {
             "colorbar": {
              "outlinewidth": 0,
              "ticks": ""
             }
            },
            "type": "scattergl"
           }
          ],
          "scattermap": [
           {
            "marker": {
             "colorbar": {
              "outlinewidth": 0,
              "ticks": ""
             }
            },
            "type": "scattermap"
           }
          ],
          "scattermapbox": [
           {
            "marker": {
             "colorbar": {
              "outlinewidth": 0,
              "ticks": ""
             }
            },
            "type": "scattermapbox"
           }
          ],
          "scatterpolar": [
           {
            "marker": {
             "colorbar": {
              "outlinewidth": 0,
              "ticks": ""
             }
            },
            "type": "scatterpolar"
           }
          ],
          "scatterpolargl": [
           {
            "marker": {
             "colorbar": {
              "outlinewidth": 0,
              "ticks": ""
             }
            },
            "type": "scatterpolargl"
           }
          ],
          "scatterternary": [
           {
            "marker": {
             "colorbar": {
              "outlinewidth": 0,
              "ticks": ""
             }
            },
            "type": "scatterternary"
           }
          ],
          "surface": [
           {
            "colorbar": {
             "outlinewidth": 0,
             "ticks": ""
            },
            "colorscale": [
             [
              0,
              "#0d0887"
             ],
             [
              0.1111111111111111,
              "#46039f"
             ],
             [
              0.2222222222222222,
              "#7201a8"
             ],
             [
              0.3333333333333333,
              "#9c179e"
             ],
             [
              0.4444444444444444,
              "#bd3786"
             ],
             [
              0.5555555555555556,
              "#d8576b"
             ],
             [
              0.6666666666666666,
              "#ed7953"
             ],
             [
              0.7777777777777778,
              "#fb9f3a"
             ],
             [
              0.8888888888888888,
              "#fdca26"
             ],
             [
              1,
              "#f0f921"
             ]
            ],
            "type": "surface"
           }
          ],
          "table": [
           {
            "cells": {
             "fill": {
              "color": "#EBF0F8"
             },
             "line": {
              "color": "white"
             }
            },
            "header": {
             "fill": {
              "color": "#C8D4E3"
             },
             "line": {
              "color": "white"
             }
            },
            "type": "table"
           }
          ]
         },
         "layout": {
          "annotationdefaults": {
           "arrowcolor": "#2a3f5f",
           "arrowhead": 0,
           "arrowwidth": 1
          },
          "autotypenumbers": "strict",
          "coloraxis": {
           "colorbar": {
            "outlinewidth": 0,
            "ticks": ""
           }
          },
          "colorscale": {
           "diverging": [
            [
             0,
             "#8e0152"
            ],
            [
             0.1,
             "#c51b7d"
            ],
            [
             0.2,
             "#de77ae"
            ],
            [
             0.3,
             "#f1b6da"
            ],
            [
             0.4,
             "#fde0ef"
            ],
            [
             0.5,
             "#f7f7f7"
            ],
            [
             0.6,
             "#e6f5d0"
            ],
            [
             0.7,
             "#b8e186"
            ],
            [
             0.8,
             "#7fbc41"
            ],
            [
             0.9,
             "#4d9221"
            ],
            [
             1,
             "#276419"
            ]
           ],
           "sequential": [
            [
             0,
             "#0d0887"
            ],
            [
             0.1111111111111111,
             "#46039f"
            ],
            [
             0.2222222222222222,
             "#7201a8"
            ],
            [
             0.3333333333333333,
             "#9c179e"
            ],
            [
             0.4444444444444444,
             "#bd3786"
            ],
            [
             0.5555555555555556,
             "#d8576b"
            ],
            [
             0.6666666666666666,
             "#ed7953"
            ],
            [
             0.7777777777777778,
             "#fb9f3a"
            ],
            [
             0.8888888888888888,
             "#fdca26"
            ],
            [
             1,
             "#f0f921"
            ]
           ],
           "sequentialminus": [
            [
             0,
             "#0d0887"
            ],
            [
             0.1111111111111111,
             "#46039f"
            ],
            [
             0.2222222222222222,
             "#7201a8"
            ],
            [
             0.3333333333333333,
             "#9c179e"
            ],
            [
             0.4444444444444444,
             "#bd3786"
            ],
            [
             0.5555555555555556,
             "#d8576b"
            ],
            [
             0.6666666666666666,
             "#ed7953"
            ],
            [
             0.7777777777777778,
             "#fb9f3a"
            ],
            [
             0.8888888888888888,
             "#fdca26"
            ],
            [
             1,
             "#f0f921"
            ]
           ]
          },
          "colorway": [
           "#636efa",
           "#EF553B",
           "#00cc96",
           "#ab63fa",
           "#FFA15A",
           "#19d3f3",
           "#FF6692",
           "#B6E880",
           "#FF97FF",
           "#FECB52"
          ],
          "font": {
           "color": "#2a3f5f"
          },
          "geo": {
           "bgcolor": "white",
           "lakecolor": "white",
           "landcolor": "#E5ECF6",
           "showlakes": true,
           "showland": true,
           "subunitcolor": "white"
          },
          "hoverlabel": {
           "align": "left"
          },
          "hovermode": "closest",
          "mapbox": {
           "style": "light"
          },
          "paper_bgcolor": "white",
          "plot_bgcolor": "#E5ECF6",
          "polar": {
           "angularaxis": {
            "gridcolor": "white",
            "linecolor": "white",
            "ticks": ""
           },
           "bgcolor": "#E5ECF6",
           "radialaxis": {
            "gridcolor": "white",
            "linecolor": "white",
            "ticks": ""
           }
          },
          "scene": {
           "xaxis": {
            "backgroundcolor": "#E5ECF6",
            "gridcolor": "white",
            "gridwidth": 2,
            "linecolor": "white",
            "showbackground": true,
            "ticks": "",
            "zerolinecolor": "white"
           },
           "yaxis": {
            "backgroundcolor": "#E5ECF6",
            "gridcolor": "white",
            "gridwidth": 2,
            "linecolor": "white",
            "showbackground": true,
            "ticks": "",
            "zerolinecolor": "white"
           },
           "zaxis": {
            "backgroundcolor": "#E5ECF6",
            "gridcolor": "white",
            "gridwidth": 2,
            "linecolor": "white",
            "showbackground": true,
            "ticks": "",
            "zerolinecolor": "white"
           }
          },
          "shapedefaults": {
           "line": {
            "color": "#2a3f5f"
           }
          },
          "ternary": {
           "aaxis": {
            "gridcolor": "white",
            "linecolor": "white",
            "ticks": ""
           },
           "baxis": {
            "gridcolor": "white",
            "linecolor": "white",
            "ticks": ""
           },
           "bgcolor": "#E5ECF6",
           "caxis": {
            "gridcolor": "white",
            "linecolor": "white",
            "ticks": ""
           }
          },
          "title": {
           "x": 0.05
          },
          "xaxis": {
           "automargin": true,
           "gridcolor": "white",
           "linecolor": "white",
           "ticks": "",
           "title": {
            "standoff": 15
           },
           "zerolinecolor": "white",
           "zerolinewidth": 2
          },
          "yaxis": {
           "automargin": true,
           "gridcolor": "white",
           "linecolor": "white",
           "ticks": "",
           "title": {
            "standoff": 15
           },
           "zerolinecolor": "white",
           "zerolinewidth": 2
          }
         }
        },
        "width": 840.0000000000001
       }
      }
     },
     "metadata": {},
     "output_type": "display_data"
    },
    {
     "data": {
      "application/vnd.plotly.v1+json": {
       "config": {
        "plotlyServerURL": "https://plot.ly"
       },
       "data": [
        {
         "arrangement": "fixed",
         "link": {
          "arrowlen": 8,
          "color": [
           "rgba(139, 0, 0, 0.4)",
           "rgba(178, 34, 34, 0.4)",
           "rgba(178, 34, 34, 0.4)",
           "rgba(178, 34, 34, 0.4)",
           "rgba(220, 20, 60, 0.4)",
           "rgba(220, 20, 60, 0.4)",
           "rgba(220, 20, 60, 0.4)",
           "rgba(255, 99, 71, 0.4)",
           "rgba(255, 99, 71, 0.4)",
           "rgba(255, 99, 71, 0.4)",
           "rgba(255, 99, 71, 0.4)",
           "rgba(60, 179, 113, 0.4)",
           "rgba(60, 179, 113, 0.4)",
           "rgba(60, 179, 113, 0.4)",
           "rgba(46, 139, 87, 0.4)",
           "rgba(46, 139, 87, 0.4)",
           "rgba(46, 139, 87, 0.4)",
           "rgba(46, 139, 87, 0.4)",
           "rgba(0, 128, 0, 0.4)",
           "rgba(0, 128, 0, 0.4)",
           "rgba(0, 128, 0, 0.4)",
           "rgba(0, 128, 0, 0.4)",
           "rgba(139, 0, 0, 0.4)",
           "rgba(178, 34, 34, 0.4)",
           "rgba(178, 34, 34, 0.4)",
           "rgba(220, 20, 60, 0.4)",
           "rgba(220, 20, 60, 0.4)",
           "rgba(220, 20, 60, 0.4)",
           "rgba(255, 99, 71, 0.4)",
           "rgba(255, 99, 71, 0.4)",
           "rgba(255, 99, 71, 0.4)",
           "rgba(255, 99, 71, 0.4)",
           "rgba(60, 179, 113, 0.4)",
           "rgba(60, 179, 113, 0.4)",
           "rgba(60, 179, 113, 0.4)",
           "rgba(60, 179, 113, 0.4)",
           "rgba(60, 179, 113, 0.4)",
           "rgba(46, 139, 87, 0.4)",
           "rgba(46, 139, 87, 0.4)",
           "rgba(46, 139, 87, 0.4)",
           "rgba(46, 139, 87, 0.4)",
           "rgba(0, 128, 0, 0.4)",
           "rgba(0, 128, 0, 0.4)",
           "rgba(0, 128, 0, 0.4)",
           "rgba(0, 128, 0, 0.4)",
           "rgba(0, 128, 0, 0.4)"
          ],
          "source": [
           0,
           1,
           1,
           1,
           2,
           2,
           2,
           3,
           3,
           3,
           3,
           4,
           4,
           4,
           5,
           5,
           5,
           5,
           6,
           6,
           6,
           6,
           7,
           8,
           8,
           9,
           9,
           9,
           10,
           10,
           10,
           10,
           11,
           11,
           11,
           11,
           11,
           12,
           12,
           12,
           12,
           13,
           13,
           13,
           13,
           13
          ],
          "target": [
           7,
           7,
           8,
           9,
           7,
           8,
           9,
           8,
           9,
           10,
           11,
           9,
           10,
           11,
           10,
           11,
           12,
           13,
           10,
           11,
           12,
           13,
           14,
           14,
           15,
           14,
           15,
           16,
           14,
           15,
           16,
           17,
           15,
           16,
           17,
           18,
           19,
           17,
           18,
           19,
           20,
           16,
           17,
           18,
           19,
           20
          ],
          "value": [
           11,
           3,
           13,
           1,
           1,
           5,
           12,
           1,
           18,
           35,
           2,
           2,
           39,
           33,
           3,
           62,
           61,
           1,
           1,
           3,
           53,
           2021,
           15,
           12,
           7,
           3,
           25,
           5,
           1,
           13,
           29,
           35,
           2,
           7,
           55,
           35,
           1,
           10,
           66,
           37,
           1,
           1,
           5,
           14,
           108,
           1894
          ]
         },
         "node": {
          "align": "right",
          "color": [
           "rgba(139, 0, 0, 0.8)",
           "rgba(178, 34, 34, 0.8)",
           "rgba(220, 20, 60, 0.8)",
           "rgba(255, 99, 71, 0.8)",
           "rgba(60, 179, 113, 0.8)",
           "rgba(46, 139, 87, 0.8)",
           "rgba(0, 128, 0, 0.8)",
           "rgba(139, 0, 0, 0.8)",
           "rgba(178, 34, 34, 0.8)",
           "rgba(220, 20, 60, 0.8)",
           "rgba(255, 99, 71, 0.8)",
           "rgba(60, 179, 113, 0.8)",
           "rgba(46, 139, 87, 0.8)",
           "rgba(0, 128, 0, 0.8)",
           "rgba(139, 0, 0, 0.8)",
           "rgba(178, 34, 34, 0.8)",
           "rgba(220, 20, 60, 0.8)",
           "rgba(255, 99, 71, 0.8)",
           "rgba(60, 179, 113, 0.8)",
           "rgba(46, 139, 87, 0.8)",
           "rgba(0, 128, 0, 0.8)"
          ],
          "label": [
           "0-2 ",
           "2-5 ",
           "5-10 ",
           "10-25 ",
           "25-50 ",
           "50-100 ",
           "100-∞ ",
           "0-2 ",
           "2-5 ",
           "5-10 ",
           "10-25 ",
           "25-50 ",
           "50-100 ",
           "100-∞ ",
           "0-2 ",
           "2-5 ",
           "5-10 ",
           "10-25 ",
           "25-50 ",
           "50-100 ",
           "100-∞ "
          ],
          "line": {
           "color": "black",
           "width": 0.5
          },
          "pad": 25,
          "thickness": 10,
          "x": [
           0,
           0,
           0,
           0,
           0,
           0,
           0,
           0.5,
           0.5,
           0.5,
           0.5,
           0.5,
           0.5,
           0.5,
           1,
           1,
           1,
           1,
           1,
           1,
           1
          ],
          "y": [
           0,
           0.16666666666666666,
           0.3333333333333333,
           0.5,
           0.6666666666666666,
           0.8333333333333333,
           1,
           0,
           0.16666666666666666,
           0.3333333333333333,
           0.5,
           0.6666666666666666,
           0.8333333333333333,
           1,
           0,
           0.16666666666666666,
           0.3333333333333333,
           0.5,
           0.6666666666666666,
           0.8333333333333333,
           1
          ]
         },
         "type": "sankey"
        }
       ],
       "layout": {
        "font": {
         "color": "black",
         "family": "Arial",
         "size": 16
        },
        "height": 280,
        "margin": {
         "b": 20,
         "l": 20,
         "r": 20,
         "t": 40
        },
        "template": {
         "data": {
          "bar": [
           {
            "error_x": {
             "color": "#2a3f5f"
            },
            "error_y": {
             "color": "#2a3f5f"
            },
            "marker": {
             "line": {
              "color": "#E5ECF6",
              "width": 0.5
             },
             "pattern": {
              "fillmode": "overlay",
              "size": 10,
              "solidity": 0.2
             }
            },
            "type": "bar"
           }
          ],
          "barpolar": [
           {
            "marker": {
             "line": {
              "color": "#E5ECF6",
              "width": 0.5
             },
             "pattern": {
              "fillmode": "overlay",
              "size": 10,
              "solidity": 0.2
             }
            },
            "type": "barpolar"
           }
          ],
          "carpet": [
           {
            "aaxis": {
             "endlinecolor": "#2a3f5f",
             "gridcolor": "white",
             "linecolor": "white",
             "minorgridcolor": "white",
             "startlinecolor": "#2a3f5f"
            },
            "baxis": {
             "endlinecolor": "#2a3f5f",
             "gridcolor": "white",
             "linecolor": "white",
             "minorgridcolor": "white",
             "startlinecolor": "#2a3f5f"
            },
            "type": "carpet"
           }
          ],
          "choropleth": [
           {
            "colorbar": {
             "outlinewidth": 0,
             "ticks": ""
            },
            "type": "choropleth"
           }
          ],
          "contour": [
           {
            "colorbar": {
             "outlinewidth": 0,
             "ticks": ""
            },
            "colorscale": [
             [
              0,
              "#0d0887"
             ],
             [
              0.1111111111111111,
              "#46039f"
             ],
             [
              0.2222222222222222,
              "#7201a8"
             ],
             [
              0.3333333333333333,
              "#9c179e"
             ],
             [
              0.4444444444444444,
              "#bd3786"
             ],
             [
              0.5555555555555556,
              "#d8576b"
             ],
             [
              0.6666666666666666,
              "#ed7953"
             ],
             [
              0.7777777777777778,
              "#fb9f3a"
             ],
             [
              0.8888888888888888,
              "#fdca26"
             ],
             [
              1,
              "#f0f921"
             ]
            ],
            "type": "contour"
           }
          ],
          "contourcarpet": [
           {
            "colorbar": {
             "outlinewidth": 0,
             "ticks": ""
            },
            "type": "contourcarpet"
           }
          ],
          "heatmap": [
           {
            "colorbar": {
             "outlinewidth": 0,
             "ticks": ""
            },
            "colorscale": [
             [
              0,
              "#0d0887"
             ],
             [
              0.1111111111111111,
              "#46039f"
             ],
             [
              0.2222222222222222,
              "#7201a8"
             ],
             [
              0.3333333333333333,
              "#9c179e"
             ],
             [
              0.4444444444444444,
              "#bd3786"
             ],
             [
              0.5555555555555556,
              "#d8576b"
             ],
             [
              0.6666666666666666,
              "#ed7953"
             ],
             [
              0.7777777777777778,
              "#fb9f3a"
             ],
             [
              0.8888888888888888,
              "#fdca26"
             ],
             [
              1,
              "#f0f921"
             ]
            ],
            "type": "heatmap"
           }
          ],
          "histogram": [
           {
            "marker": {
             "pattern": {
              "fillmode": "overlay",
              "size": 10,
              "solidity": 0.2
             }
            },
            "type": "histogram"
           }
          ],
          "histogram2d": [
           {
            "colorbar": {
             "outlinewidth": 0,
             "ticks": ""
            },
            "colorscale": [
             [
              0,
              "#0d0887"
             ],
             [
              0.1111111111111111,
              "#46039f"
             ],
             [
              0.2222222222222222,
              "#7201a8"
             ],
             [
              0.3333333333333333,
              "#9c179e"
             ],
             [
              0.4444444444444444,
              "#bd3786"
             ],
             [
              0.5555555555555556,
              "#d8576b"
             ],
             [
              0.6666666666666666,
              "#ed7953"
             ],
             [
              0.7777777777777778,
              "#fb9f3a"
             ],
             [
              0.8888888888888888,
              "#fdca26"
             ],
             [
              1,
              "#f0f921"
             ]
            ],
            "type": "histogram2d"
           }
          ],
          "histogram2dcontour": [
           {
            "colorbar": {
             "outlinewidth": 0,
             "ticks": ""
            },
            "colorscale": [
             [
              0,
              "#0d0887"
             ],
             [
              0.1111111111111111,
              "#46039f"
             ],
             [
              0.2222222222222222,
              "#7201a8"
             ],
             [
              0.3333333333333333,
              "#9c179e"
             ],
             [
              0.4444444444444444,
              "#bd3786"
             ],
             [
              0.5555555555555556,
              "#d8576b"
             ],
             [
              0.6666666666666666,
              "#ed7953"
             ],
             [
              0.7777777777777778,
              "#fb9f3a"
             ],
             [
              0.8888888888888888,
              "#fdca26"
             ],
             [
              1,
              "#f0f921"
             ]
            ],
            "type": "histogram2dcontour"
           }
          ],
          "mesh3d": [
           {
            "colorbar": {
             "outlinewidth": 0,
             "ticks": ""
            },
            "type": "mesh3d"
           }
          ],
          "parcoords": [
           {
            "line": {
             "colorbar": {
              "outlinewidth": 0,
              "ticks": ""
             }
            },
            "type": "parcoords"
           }
          ],
          "pie": [
           {
            "automargin": true,
            "type": "pie"
           }
          ],
          "scatter": [
           {
            "fillpattern": {
             "fillmode": "overlay",
             "size": 10,
             "solidity": 0.2
            },
            "type": "scatter"
           }
          ],
          "scatter3d": [
           {
            "line": {
             "colorbar": {
              "outlinewidth": 0,
              "ticks": ""
             }
            },
            "marker": {
             "colorbar": {
              "outlinewidth": 0,
              "ticks": ""
             }
            },
            "type": "scatter3d"
           }
          ],
          "scattercarpet": [
           {
            "marker": {
             "colorbar": {
              "outlinewidth": 0,
              "ticks": ""
             }
            },
            "type": "scattercarpet"
           }
          ],
          "scattergeo": [
           {
            "marker": {
             "colorbar": {
              "outlinewidth": 0,
              "ticks": ""
             }
            },
            "type": "scattergeo"
           }
          ],
          "scattergl": [
           {
            "marker": {
             "colorbar": {
              "outlinewidth": 0,
              "ticks": ""
             }
            },
            "type": "scattergl"
           }
          ],
          "scattermap": [
           {
            "marker": {
             "colorbar": {
              "outlinewidth": 0,
              "ticks": ""
             }
            },
            "type": "scattermap"
           }
          ],
          "scattermapbox": [
           {
            "marker": {
             "colorbar": {
              "outlinewidth": 0,
              "ticks": ""
             }
            },
            "type": "scattermapbox"
           }
          ],
          "scatterpolar": [
           {
            "marker": {
             "colorbar": {
              "outlinewidth": 0,
              "ticks": ""
             }
            },
            "type": "scatterpolar"
           }
          ],
          "scatterpolargl": [
           {
            "marker": {
             "colorbar": {
              "outlinewidth": 0,
              "ticks": ""
             }
            },
            "type": "scatterpolargl"
           }
          ],
          "scatterternary": [
           {
            "marker": {
             "colorbar": {
              "outlinewidth": 0,
              "ticks": ""
             }
            },
            "type": "scatterternary"
           }
          ],
          "surface": [
           {
            "colorbar": {
             "outlinewidth": 0,
             "ticks": ""
            },
            "colorscale": [
             [
              0,
              "#0d0887"
             ],
             [
              0.1111111111111111,
              "#46039f"
             ],
             [
              0.2222222222222222,
              "#7201a8"
             ],
             [
              0.3333333333333333,
              "#9c179e"
             ],
             [
              0.4444444444444444,
              "#bd3786"
             ],
             [
              0.5555555555555556,
              "#d8576b"
             ],
             [
              0.6666666666666666,
              "#ed7953"
             ],
             [
              0.7777777777777778,
              "#fb9f3a"
             ],
             [
              0.8888888888888888,
              "#fdca26"
             ],
             [
              1,
              "#f0f921"
             ]
            ],
            "type": "surface"
           }
          ],
          "table": [
           {
            "cells": {
             "fill": {
              "color": "#EBF0F8"
             },
             "line": {
              "color": "white"
             }
            },
            "header": {
             "fill": {
              "color": "#C8D4E3"
             },
             "line": {
              "color": "white"
             }
            },
            "type": "table"
           }
          ]
         },
         "layout": {
          "annotationdefaults": {
           "arrowcolor": "#2a3f5f",
           "arrowhead": 0,
           "arrowwidth": 1
          },
          "autotypenumbers": "strict",
          "coloraxis": {
           "colorbar": {
            "outlinewidth": 0,
            "ticks": ""
           }
          },
          "colorscale": {
           "diverging": [
            [
             0,
             "#8e0152"
            ],
            [
             0.1,
             "#c51b7d"
            ],
            [
             0.2,
             "#de77ae"
            ],
            [
             0.3,
             "#f1b6da"
            ],
            [
             0.4,
             "#fde0ef"
            ],
            [
             0.5,
             "#f7f7f7"
            ],
            [
             0.6,
             "#e6f5d0"
            ],
            [
             0.7,
             "#b8e186"
            ],
            [
             0.8,
             "#7fbc41"
            ],
            [
             0.9,
             "#4d9221"
            ],
            [
             1,
             "#276419"
            ]
           ],
           "sequential": [
            [
             0,
             "#0d0887"
            ],
            [
             0.1111111111111111,
             "#46039f"
            ],
            [
             0.2222222222222222,
             "#7201a8"
            ],
            [
             0.3333333333333333,
             "#9c179e"
            ],
            [
             0.4444444444444444,
             "#bd3786"
            ],
            [
             0.5555555555555556,
             "#d8576b"
            ],
            [
             0.6666666666666666,
             "#ed7953"
            ],
            [
             0.7777777777777778,
             "#fb9f3a"
            ],
            [
             0.8888888888888888,
             "#fdca26"
            ],
            [
             1,
             "#f0f921"
            ]
           ],
           "sequentialminus": [
            [
             0,
             "#0d0887"
            ],
            [
             0.1111111111111111,
             "#46039f"
            ],
            [
             0.2222222222222222,
             "#7201a8"
            ],
            [
             0.3333333333333333,
             "#9c179e"
            ],
            [
             0.4444444444444444,
             "#bd3786"
            ],
            [
             0.5555555555555556,
             "#d8576b"
            ],
            [
             0.6666666666666666,
             "#ed7953"
            ],
            [
             0.7777777777777778,
             "#fb9f3a"
            ],
            [
             0.8888888888888888,
             "#fdca26"
            ],
            [
             1,
             "#f0f921"
            ]
           ]
          },
          "colorway": [
           "#636efa",
           "#EF553B",
           "#00cc96",
           "#ab63fa",
           "#FFA15A",
           "#19d3f3",
           "#FF6692",
           "#B6E880",
           "#FF97FF",
           "#FECB52"
          ],
          "font": {
           "color": "#2a3f5f"
          },
          "geo": {
           "bgcolor": "white",
           "lakecolor": "white",
           "landcolor": "#E5ECF6",
           "showlakes": true,
           "showland": true,
           "subunitcolor": "white"
          },
          "hoverlabel": {
           "align": "left"
          },
          "hovermode": "closest",
          "mapbox": {
           "style": "light"
          },
          "paper_bgcolor": "white",
          "plot_bgcolor": "#E5ECF6",
          "polar": {
           "angularaxis": {
            "gridcolor": "white",
            "linecolor": "white",
            "ticks": ""
           },
           "bgcolor": "#E5ECF6",
           "radialaxis": {
            "gridcolor": "white",
            "linecolor": "white",
            "ticks": ""
           }
          },
          "scene": {
           "xaxis": {
            "backgroundcolor": "#E5ECF6",
            "gridcolor": "white",
            "gridwidth": 2,
            "linecolor": "white",
            "showbackground": true,
            "ticks": "",
            "zerolinecolor": "white"
           },
           "yaxis": {
            "backgroundcolor": "#E5ECF6",
            "gridcolor": "white",
            "gridwidth": 2,
            "linecolor": "white",
            "showbackground": true,
            "ticks": "",
            "zerolinecolor": "white"
           },
           "zaxis": {
            "backgroundcolor": "#E5ECF6",
            "gridcolor": "white",
            "gridwidth": 2,
            "linecolor": "white",
            "showbackground": true,
            "ticks": "",
            "zerolinecolor": "white"
           }
          },
          "shapedefaults": {
           "line": {
            "color": "#2a3f5f"
           }
          },
          "ternary": {
           "aaxis": {
            "gridcolor": "white",
            "linecolor": "white",
            "ticks": ""
           },
           "baxis": {
            "gridcolor": "white",
            "linecolor": "white",
            "ticks": ""
           },
           "bgcolor": "#E5ECF6",
           "caxis": {
            "gridcolor": "white",
            "linecolor": "white",
            "ticks": ""
           }
          },
          "title": {
           "x": 0.05
          },
          "xaxis": {
           "automargin": true,
           "gridcolor": "white",
           "linecolor": "white",
           "ticks": "",
           "title": {
            "standoff": 15
           },
           "zerolinecolor": "white",
           "zerolinewidth": 2
          },
          "yaxis": {
           "automargin": true,
           "gridcolor": "white",
           "linecolor": "white",
           "ticks": "",
           "title": {
            "standoff": 15
           },
           "zerolinecolor": "white",
           "zerolinewidth": 2
          }
         }
        },
        "width": 840.0000000000001
       }
      }
     },
     "metadata": {},
     "output_type": "display_data"
    }
   ],
   "source": [
    "color_map = {\n",
    "   '0-2': 'rgba(139, 0, 0, 0.8)',       # dark red\n",
    "    '2-5': 'rgba(178, 34, 34, 0.8)',     # firebrick\n",
    "    '5-10': 'rgba(220, 20, 60, 0.8)',    # crimson\n",
    "    '10-25': 'rgba(255, 99, 71, 0.8)',   # tomato\n",
    "    '25-50': 'rgba(60, 179, 113, 0.8)',  # medium sea green\n",
    "    '50-100': 'rgba(46, 139, 87, 0.8)',  # sea green\n",
    "    '100-∞': 'rgba(0, 128, 0, 0.8)'    # green\n",
    "}\n",
    "make_sankey_for_scenario('B2', 'Lower Bound', color_map)\n",
    "make_sankey_for_scenario('A2', 'Upper Bound', color_map)"
   ]
  },
  {
   "cell_type": "code",
   "execution_count": 9,
   "id": "9bc541a0-96c6-48db-b118-b6f5c783b67d",
   "metadata": {},
   "outputs": [],
   "source": [
    "# Orca and Kaleido are not working in windows OS\n",
    "# use the html in https://cloudconvert.com/html-to-png to get .png or use dash .png botton"
   ]
  },
  {
   "cell_type": "code",
   "execution_count": 25,
   "id": "8a4a95b2-3ed3-44bd-86cf-b2299ea3d616",
   "metadata": {},
   "outputs": [
    {
     "name": "stdout",
     "output_type": "stream",
     "text": [
      "Date and time: 2025-07-29 17:32:24.617261\n"
     ]
    }
   ],
   "source": [
    "# Date and time\n",
    "now = datetime.datetime.now()\n",
    "print(f\"Date and time: {now}\")"
   ]
  },
  {
   "cell_type": "code",
   "execution_count": 26,
   "id": "3706534e-74b1-4701-90ee-cdbfd8b3a5f5",
   "metadata": {},
   "outputs": [
    {
     "name": "stdout",
     "output_type": "stream",
     "text": [
      "Python implementation: CPython\n",
      "Python version       : 3.12.4\n",
      "IPython version      : 8.20.0\n",
      "\n",
      "numpy     : 2.0.2\n",
      "pandas    : 2.2.2\n",
      "matplotlib: 3.8.4\n",
      "seaborn   : 0.13.2\n",
      "plotly    : 6.1.0\n",
      "\n",
      "Compiler    : MSC v.1940 64 bit (AMD64)\n",
      "OS          : Windows\n",
      "Release     : 11\n",
      "Machine     : AMD64\n",
      "Processor   : Intel64 Family 6 Model 183 Stepping 1, GenuineIntel\n",
      "CPU cores   : 24\n",
      "Architecture: 64bit\n",
      "\n"
     ]
    }
   ],
   "source": [
    "%load_ext watermark\n",
    "# Print the Python version and some dependencies\n",
    "%watermark -v -m -p numpy,pandas,matplotlib,seaborn,plotly"
   ]
  },
  {
   "cell_type": "code",
   "execution_count": null,
   "id": "c81128ff-854c-40c4-87e0-3333075f0de9",
   "metadata": {},
   "outputs": [],
   "source": []
  }
 ],
 "metadata": {
  "kernelspec": {
   "display_name": "culverts",
   "language": "python",
   "name": "python3"
  },
  "language_info": {
   "codemirror_mode": {
    "name": "ipython",
    "version": 3
   },
   "file_extension": ".py",
   "mimetype": "text/x-python",
   "name": "python",
   "nbconvert_exporter": "python",
   "pygments_lexer": "ipython3",
   "version": "3.12.4"
  }
 },
 "nbformat": 4,
 "nbformat_minor": 5
}
