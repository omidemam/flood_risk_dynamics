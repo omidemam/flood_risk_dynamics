{
 "cells": [
  {
   "cell_type": "markdown",
   "id": "fcb8c3eb-be3b-4cf5-b837-59a645eb0a27",
   "metadata": {},
   "source": [
    "# This notebook compares the CN map generated using the CN calculation with a product in google earth engine\n",
    "##### Author: Omid Emamjomehzadeh (https://www.omidemam.com/)\n",
    "##### Supervisor: Dr. Omar Wani (https://engineering.nyu.edu/faculty/omar-wani)\n",
    "##### Hydrologic Systems Group @NYU (https://www.omarwani.com/)"
   ]
  },
  {
   "cell_type": "code",
   "execution_count": 1,
   "id": "32077cb2-1958-4262-afdd-48b4ca419b40",
   "metadata": {},
   "outputs": [],
   "source": [
    "# load libraries\n",
    "import geopandas as gpd\n",
    "import pandas as pd\n",
    "import numpy as np\n",
    "import rasterio\n",
    "from rasterio.mask import mask\n",
    "import matplotlib.pyplot as plt\n",
    "from matplotlib import rcParams\n",
    "import re\n",
    "import os\n",
    "import glob\n",
    "from tqdm import tqdm\n",
    "import datetime"
   ]
  },
  {
   "cell_type": "code",
   "execution_count": 2,
   "id": "735b4b44-282c-4d79-88c1-3d27ae11006e",
   "metadata": {},
   "outputs": [],
   "source": [
    "import warnings\n",
    "# Suppress the specific RuntimeWarning\n",
    "warnings.filterwarnings(\"ignore\")\n",
    "# Suppress all UserWarnings, including PerformanceWarnings\n",
    "warnings.simplefilter('ignore', category=UserWarning)\n",
    "# plot with Arial font\n",
    "plt.rcParams['font.family'] = 'Arial'"
   ]
  },
  {
   "cell_type": "markdown",
   "id": "2f87a2c6-4949-42b4-982d-fa2bdea399c6",
   "metadata": {},
   "source": [
    "#### this notebook compares the lumped CN value derived from the CN map computed using the CN map calculation notebook with the CN value derived from using the GEE product"
   ]
  },
  {
   "cell_type": "code",
   "execution_count": 3,
   "id": "863dedcc-21e7-47aa-838a-4410393ffd23",
   "metadata": {},
   "outputs": [],
   "source": [
    "path=r'D:\\hydrological analysis\\data\\Peak hydrologic discharge\\culvert_CN_tc_S_Ia.xlsx'\n",
    "culvert = pd.read_excel(path)\n"
   ]
  },
  {
   "cell_type": "code",
   "execution_count": 4,
   "id": "da7bb77d-a376-4c97-8fd5-755c0f80108a",
   "metadata": {},
   "outputs": [
    {
     "data": {
      "text/html": [
       "<div>\n",
       "<style scoped>\n",
       "    .dataframe tbody tr th:only-of-type {\n",
       "        vertical-align: middle;\n",
       "    }\n",
       "\n",
       "    .dataframe tbody tr th {\n",
       "        vertical-align: top;\n",
       "    }\n",
       "\n",
       "    .dataframe thead th {\n",
       "        text-align: right;\n",
       "    }\n",
       "</style>\n",
       "<table border=\"1\" class=\"dataframe\">\n",
       "  <thead>\n",
       "    <tr style=\"text-align: right;\">\n",
       "      <th></th>\n",
       "      <th>BIN</th>\n",
       "      <th>CN</th>\n",
       "      <th>CN_dry</th>\n",
       "      <th>CN_wet</th>\n",
       "    </tr>\n",
       "  </thead>\n",
       "  <tbody>\n",
       "    <tr>\n",
       "      <th>0</th>\n",
       "      <td>C810530</td>\n",
       "      <td>77.519808</td>\n",
       "      <td>60.601441</td>\n",
       "      <td>88.865546</td>\n",
       "    </tr>\n",
       "    <tr>\n",
       "      <th>1</th>\n",
       "      <td>C810550</td>\n",
       "      <td>74.375262</td>\n",
       "      <td>56.567086</td>\n",
       "      <td>86.932914</td>\n",
       "    </tr>\n",
       "    <tr>\n",
       "      <th>2</th>\n",
       "      <td>C810490</td>\n",
       "      <td>68.429505</td>\n",
       "      <td>50.051354</td>\n",
       "      <td>82.789916</td>\n",
       "    </tr>\n",
       "    <tr>\n",
       "      <th>3</th>\n",
       "      <td>C810520</td>\n",
       "      <td>76.450000</td>\n",
       "      <td>58.788095</td>\n",
       "      <td>88.459524</td>\n",
       "    </tr>\n",
       "    <tr>\n",
       "      <th>4</th>\n",
       "      <td>C810491</td>\n",
       "      <td>69.028981</td>\n",
       "      <td>50.702707</td>\n",
       "      <td>83.089013</td>\n",
       "    </tr>\n",
       "  </tbody>\n",
       "</table>\n",
       "</div>"
      ],
      "text/plain": [
       "       BIN         CN     CN_dry     CN_wet\n",
       "0  C810530  77.519808  60.601441  88.865546\n",
       "1  C810550  74.375262  56.567086  86.932914\n",
       "2  C810490  68.429505  50.051354  82.789916\n",
       "3  C810520  76.450000  58.788095  88.459524\n",
       "4  C810491  69.028981  50.702707  83.089013"
      ]
     },
     "execution_count": 4,
     "metadata": {},
     "output_type": "execute_result"
    }
   ],
   "source": [
    "culvert[['BIN','CN','CN_dry','CN_wet']].head()"
   ]
  },
  {
   "cell_type": "code",
   "execution_count": 5,
   "id": "0f759ea5-848d-43e9-b221-4032bfff8b63",
   "metadata": {},
   "outputs": [
    {
     "name": "stdout",
     "output_type": "stream",
     "text": [
      "Found 29960 shapefiles.\n"
     ]
    }
   ],
   "source": [
    "# Define the root directory\n",
    "root_dir = r'D:\\culvert repo\\Results\\waterhsed_delineation_dir'\n",
    "# Define the pattern to search for shapefiles\n",
    "pattern = os.path.join(root_dir, '**', '*watershed_poly_*m.shp')\n",
    "# Use glob to find all matching shapefiles\n",
    "shapefile_paths = glob.glob(pattern, recursive=True)\n",
    "# Print the number of shapefiles found\n",
    "print(f\"Found {len(shapefile_paths)} shapefiles.\")"
   ]
  },
  {
   "cell_type": "code",
   "execution_count": 6,
   "id": "b944dbf9-9513-4fac-9b42-81c7ce6e9153",
   "metadata": {},
   "outputs": [],
   "source": [
    "def select_closest_area(row):\n",
    "    error = str(row['Closest_Area'])\n",
    "    return error"
   ]
  },
  {
   "cell_type": "code",
   "execution_count": 7,
   "id": "dd501374-9795-4aab-a399-977b81aedfd3",
   "metadata": {},
   "outputs": [
    {
     "name": "stderr",
     "output_type": "stream",
     "text": [
      "number of processed rows: 100%|██████████| 2418/2418 [03:57<00:00, 10.17it/s]\n"
     ]
    }
   ],
   "source": [
    "CN_path = r\"D:\\culvert repo\\data\\initial layers\\GEE\\GCN250_Average_NY_reprojected.tif\"\n",
    "# Define the root directory to search in\n",
    "# Progress bar\n",
    "for idx, row in tqdm(culvert.iterrows(), total=culvert.shape[0], desc='number of processed rows'):\n",
    "    error=select_closest_area(row)\n",
    "    ###############################################################################################################################################\n",
    "    # Find the path to the file \n",
    "    # Construct the specific filename pattern\n",
    "    specific_pattern = f\"{culvert['BIN'].iloc[idx]}watershed_poly_{error}m.shp\"\n",
    "    # Find the path related to the specific pattern\n",
    "    matching_path = None\n",
    "    for path in shapefile_paths:\n",
    "        if specific_pattern in os.path.basename(path):\n",
    "            matching_path = path\n",
    "            break\n",
    "    if matching_path is None:\n",
    "        print(\"No matching shapefile found.\")\n",
    "        culvert.loc[idx, f\"CN\"] = np.nan\n",
    "        continue\n",
    "    ###############################################################################################################################################\n",
    "    watershed_polygone = matching_path\n",
    "    watershed = gpd.read_file(watershed_polygone)\n",
    "    # Convert the watershed boundary to GeoJSON-like format\n",
    "    watershed_geom = [feature[\"geometry\"] for feature in watershed.__geo_interface__[\"features\"]]\n",
    "    ###############################################################################################################################################\n",
    "    # Open the precipitation TIFF file and clip it using the watershed boundary\n",
    "    with rasterio.open(CN_path) as src:\n",
    "        out_image, out_transform = mask(src, watershed_geom, crop=True, all_touched=True)\n",
    "        # Set NoData value\n",
    "        out_image[out_image == src.nodata] = 0\n",
    "        # Calculate the mean of the clipped raster, excluding NoData values\n",
    "        if np.count_nonzero(out_image) == 0:  # Check if the data is empty (no non-zero values)\n",
    "            mean_value = np.nan\n",
    "        else:\n",
    "            mean_value = np.nanmean(np.where(out_image == 0, np.nan, out_image))\n",
    "    # Update the DataFrame with the mean value for the given error\n",
    "    culvert.loc[idx, f\"GEE_CN\"] = mean_value"
   ]
  },
  {
   "cell_type": "code",
   "execution_count": 8,
   "id": "cccfa5ad-f080-4355-8463-4f9c89629beb",
   "metadata": {},
   "outputs": [
    {
     "name": "stderr",
     "output_type": "stream",
     "text": [
      "number of processed rows: 100%|██████████| 2418/2418 [02:08<00:00, 18.75it/s]\n"
     ]
    }
   ],
   "source": [
    "CN_path = r\"D:\\culvert repo\\data\\initial layers\\GEE\\GCN250_Wet_NY_reprojected.tif\"\n",
    "# Define the root directory to search in\n",
    "# Progress bar\n",
    "for idx, row in tqdm(culvert.iterrows(), total=culvert.shape[0], desc='number of processed rows'):\n",
    "    error=select_closest_area(row)\n",
    "    ###############################################################################################################################################\n",
    "    # Find the path to the file \n",
    "    # Construct the specific filename pattern\n",
    "    specific_pattern = f\"{culvert['BIN'].iloc[idx]}watershed_poly_{error}m.shp\"\n",
    "    # Find the path related to the specific pattern\n",
    "    matching_path = None\n",
    "    for path in shapefile_paths:\n",
    "        if specific_pattern in os.path.basename(path):\n",
    "            matching_path = path\n",
    "            break\n",
    "    if matching_path is None:\n",
    "        print(\"No matching shapefile found.\")\n",
    "        culvert.loc[idx, f\"CN\"] = np.nan\n",
    "        continue\n",
    "    ###############################################################################################################################################\n",
    "    watershed_polygone = matching_path\n",
    "    watershed = gpd.read_file(watershed_polygone)\n",
    "    # Convert the watershed boundary to GeoJSON-like format\n",
    "    watershed_geom = [feature[\"geometry\"] for feature in watershed.__geo_interface__[\"features\"]]\n",
    "    ###############################################################################################################################################\n",
    "    # Open the precipitation TIFF file and clip it using the watershed boundary\n",
    "    with rasterio.open(CN_path) as src:\n",
    "        out_image, out_transform = mask(src, watershed_geom, crop=True, all_touched=True)\n",
    "        # Set NoData value\n",
    "        out_image[out_image == src.nodata] = 0\n",
    "        # Calculate the mean of the clipped raster, excluding NoData values\n",
    "        if np.count_nonzero(out_image) == 0:  # Check if the data is empty (no non-zero values)\n",
    "            mean_value = np.nan\n",
    "        else:\n",
    "            mean_value = np.nanmean(np.where(out_image == 0, np.nan, out_image))\n",
    "    # Update the DataFrame with the mean value for the given error\n",
    "    culvert.loc[idx, f\"GEE_CN_wet\"] = mean_value"
   ]
  },
  {
   "cell_type": "code",
   "execution_count": 9,
   "id": "300fc778-6987-4bfa-b8db-cc78c3d9c15b",
   "metadata": {},
   "outputs": [
    {
     "name": "stderr",
     "output_type": "stream",
     "text": [
      "number of processed rows: 100%|██████████| 2418/2418 [02:09<00:00, 18.69it/s]\n"
     ]
    }
   ],
   "source": [
    "CN_path = r\"D:\\culvert repo\\data\\initial layers\\GEE\\GCN250_Dry_NY_reprojected.tif\"\n",
    "# Define the root directory to search in\n",
    "# Progress bar\n",
    "for idx, row in tqdm(culvert.iterrows(), total=culvert.shape[0], desc='number of processed rows'):\n",
    "    error=select_closest_area(row)\n",
    "    ###############################################################################################################################################\n",
    "    # Find the path to the file \n",
    "    # Construct the specific filename pattern\n",
    "    specific_pattern = f\"{culvert['BIN'].iloc[idx]}watershed_poly_{error}m.shp\"\n",
    "    # Find the path related to the specific pattern\n",
    "    matching_path = None\n",
    "    for path in shapefile_paths:\n",
    "        if specific_pattern in os.path.basename(path):\n",
    "            matching_path = path\n",
    "            break\n",
    "    if matching_path is None:\n",
    "        print(\"No matching shapefile found.\")\n",
    "        culvert.loc[idx, f\"CN\"] = np.nan\n",
    "        continue\n",
    "    ###############################################################################################################################################\n",
    "    watershed_polygone = matching_path\n",
    "    watershed = gpd.read_file(watershed_polygone)\n",
    "    # Convert the watershed boundary to GeoJSON-like format\n",
    "    watershed_geom = [feature[\"geometry\"] for feature in watershed.__geo_interface__[\"features\"]]\n",
    "    ###############################################################################################################################################\n",
    "    # Open the precipitation TIFF file and clip it using the watershed boundary\n",
    "    with rasterio.open(CN_path) as src:\n",
    "        out_image, out_transform = mask(src, watershed_geom, crop=True, all_touched=True)\n",
    "        # Set NoData value\n",
    "        out_image[out_image == src.nodata] = 0\n",
    "        # Calculate the mean of the clipped raster, excluding NoData values\n",
    "        if np.count_nonzero(out_image) == 0:  # Check if the data is empty (no non-zero values)\n",
    "            mean_value = np.nan\n",
    "        else:\n",
    "            mean_value = np.nanmean(np.where(out_image == 0, np.nan, out_image))\n",
    "    # Update the DataFrame with the mean value for the given error\n",
    "    culvert.loc[idx, f\"GEE_CN_dry\"] = mean_value"
   ]
  },
  {
   "cell_type": "code",
   "execution_count": 10,
   "id": "709a75b8-bc26-4c66-890c-b9e101b4f7a9",
   "metadata": {},
   "outputs": [
    {
     "data": {
      "text/html": [
       "<div>\n",
       "<style scoped>\n",
       "    .dataframe tbody tr th:only-of-type {\n",
       "        vertical-align: middle;\n",
       "    }\n",
       "\n",
       "    .dataframe tbody tr th {\n",
       "        vertical-align: top;\n",
       "    }\n",
       "\n",
       "    .dataframe thead th {\n",
       "        text-align: right;\n",
       "    }\n",
       "</style>\n",
       "<table border=\"1\" class=\"dataframe\">\n",
       "  <thead>\n",
       "    <tr style=\"text-align: right;\">\n",
       "      <th></th>\n",
       "      <th>BIN</th>\n",
       "      <th>CN</th>\n",
       "      <th>CN_dry</th>\n",
       "      <th>CN_wet</th>\n",
       "      <th>GEE_CN</th>\n",
       "      <th>GEE_CN_dry</th>\n",
       "      <th>GEE_CN_wet</th>\n",
       "    </tr>\n",
       "  </thead>\n",
       "  <tbody>\n",
       "    <tr>\n",
       "      <th>0</th>\n",
       "      <td>C810530</td>\n",
       "      <td>77.519808</td>\n",
       "      <td>60.601441</td>\n",
       "      <td>88.865546</td>\n",
       "      <td>71.750000</td>\n",
       "      <td>52.730769</td>\n",
       "      <td>85.826923</td>\n",
       "    </tr>\n",
       "    <tr>\n",
       "      <th>1</th>\n",
       "      <td>C810550</td>\n",
       "      <td>74.375262</td>\n",
       "      <td>56.567086</td>\n",
       "      <td>86.932914</td>\n",
       "      <td>70.023529</td>\n",
       "      <td>50.917647</td>\n",
       "      <td>84.623529</td>\n",
       "    </tr>\n",
       "    <tr>\n",
       "      <th>2</th>\n",
       "      <td>C810490</td>\n",
       "      <td>68.429505</td>\n",
       "      <td>50.051354</td>\n",
       "      <td>82.789916</td>\n",
       "      <td>73.550000</td>\n",
       "      <td>55.150000</td>\n",
       "      <td>87.025000</td>\n",
       "    </tr>\n",
       "    <tr>\n",
       "      <th>3</th>\n",
       "      <td>C810520</td>\n",
       "      <td>76.450000</td>\n",
       "      <td>58.788095</td>\n",
       "      <td>88.459524</td>\n",
       "      <td>72.000000</td>\n",
       "      <td>53.000000</td>\n",
       "      <td>86.000000</td>\n",
       "    </tr>\n",
       "    <tr>\n",
       "      <th>4</th>\n",
       "      <td>C810491</td>\n",
       "      <td>69.028981</td>\n",
       "      <td>50.702707</td>\n",
       "      <td>83.089013</td>\n",
       "      <td>72.052326</td>\n",
       "      <td>53.279070</td>\n",
       "      <td>86.023256</td>\n",
       "    </tr>\n",
       "  </tbody>\n",
       "</table>\n",
       "</div>"
      ],
      "text/plain": [
       "       BIN         CN     CN_dry     CN_wet     GEE_CN  GEE_CN_dry  GEE_CN_wet\n",
       "0  C810530  77.519808  60.601441  88.865546  71.750000   52.730769   85.826923\n",
       "1  C810550  74.375262  56.567086  86.932914  70.023529   50.917647   84.623529\n",
       "2  C810490  68.429505  50.051354  82.789916  73.550000   55.150000   87.025000\n",
       "3  C810520  76.450000  58.788095  88.459524  72.000000   53.000000   86.000000\n",
       "4  C810491  69.028981  50.702707  83.089013  72.052326   53.279070   86.023256"
      ]
     },
     "execution_count": 10,
     "metadata": {},
     "output_type": "execute_result"
    }
   ],
   "source": [
    "culvert[['BIN','CN','CN_dry','CN_wet','GEE_CN','GEE_CN_dry','GEE_CN_wet']].head()"
   ]
  },
  {
   "cell_type": "markdown",
   "id": "e5670247-26f5-4db3-b21f-b543927e8b15",
   "metadata": {},
   "source": [
    "### Average absolute difference"
   ]
  },
  {
   "cell_type": "code",
   "execution_count": 12,
   "id": "78017c8a-13df-43b2-80f3-5319cd8fc640",
   "metadata": {},
   "outputs": [
    {
     "name": "stdout",
     "output_type": "stream",
     "text": [
      "CN vs GEE_CN: MAE = 4.73, STD = 5.46\n",
      "CN_dry vs GEE_CN_dry: MAE = 6.27, STD = 6.44\n",
      "CN_wet vs GEE_CN_wet: MAE = 2.71, STD = 3.63\n"
     ]
    }
   ],
   "source": [
    "error_pairs = [\n",
    "    ('CN', 'GEE_CN'),\n",
    "    ('CN_dry', 'GEE_CN_dry'),\n",
    "    ('CN_wet', 'GEE_CN_wet'),\n",
    "]\n",
    "\n",
    "for a, b in error_pairs:\n",
    "    errors = culvert[a] - culvert[b]\n",
    "    mae = errors.abs().mean()\n",
    "    std = errors.std()\n",
    "    print(f\"{a} vs {b}: MAE = {mae:.2f}, STD = {std:.2f}\")"
   ]
  },
  {
   "cell_type": "code",
   "execution_count": 34,
   "id": "bbc52caf-fbb9-4f3b-9bfc-4b583a6c637a",
   "metadata": {},
   "outputs": [
    {
     "name": "stdout",
     "output_type": "stream",
     "text": [
      "Date and time: 2025-05-01 16:23:55.882762\n"
     ]
    }
   ],
   "source": [
    "# Date and time\n",
    "now = datetime.datetime.now()\n",
    "print(f\"Date and time: {now}\")"
   ]
  },
  {
   "cell_type": "code",
   "execution_count": 35,
   "id": "15501b81-294a-47c0-8e5f-5e9ff3d53ff6",
   "metadata": {},
   "outputs": [
    {
     "name": "stdout",
     "output_type": "stream",
     "text": [
      "Python implementation: CPython\n",
      "Python version       : 3.12.4\n",
      "IPython version      : 8.20.0\n",
      "\n",
      "numpy     : 2.0.2\n",
      "pandas    : 2.2.2\n",
      "geopandas : 1.0.1\n",
      "matplotlib: 3.8.4\n",
      "os        : unknown\n",
      "rasterio  : 1.4.3\n",
      "tqdm      : 4.66.5\n",
      "\n",
      "Compiler    : MSC v.1940 64 bit (AMD64)\n",
      "OS          : Windows\n",
      "Release     : 11\n",
      "Machine     : AMD64\n",
      "Processor   : Intel64 Family 6 Model 183 Stepping 1, GenuineIntel\n",
      "CPU cores   : 24\n",
      "Architecture: 64bit\n",
      "\n"
     ]
    }
   ],
   "source": [
    "%load_ext watermark\n",
    "# Print the Python version and some dependencies\n",
    "%watermark -v -m -p numpy,pandas,geopandas,matplotlib,os,rasterio,tqdm"
   ]
  },
  {
   "cell_type": "code",
   "execution_count": null,
   "id": "3f32b3be-fd4a-447d-86ff-a979b16f4561",
   "metadata": {},
   "outputs": [],
   "source": []
  }
 ],
 "metadata": {
  "kernelspec": {
   "display_name": "culverts",
   "language": "python",
   "name": "python3"
  },
  "language_info": {
   "codemirror_mode": {
    "name": "ipython",
    "version": 3
   },
   "file_extension": ".py",
   "mimetype": "text/x-python",
   "name": "python",
   "nbconvert_exporter": "python",
   "pygments_lexer": "ipython3",
   "version": "3.12.4"
  }
 },
 "nbformat": 4,
 "nbformat_minor": 5
}
